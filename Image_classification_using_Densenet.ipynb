{
  "nbformat": 4,
  "nbformat_minor": 0,
  "metadata": {
    "accelerator": "GPU",
    "colab": {
      "name": "Image classification using Densenet.ipynb",
      "provenance": [],
      "collapsed_sections": []
    },
    "kernelspec": {
      "display_name": "Python 3",
      "language": "python",
      "name": "python3"
    },
    "language_info": {
      "codemirror_mode": {
        "name": "ipython",
        "version": 3
      },
      "file_extension": ".py",
      "mimetype": "text/x-python",
      "name": "python",
      "nbconvert_exporter": "python",
      "pygments_lexer": "ipython3",
      "version": "3.6.9"
    }
  },
  "cells": [
    {
      "cell_type": "markdown",
      "metadata": {
        "id": "RtY_pg9tiAFK"
      },
      "source": [
        "Importing all the necessary libraries"
      ]
    },
    {
      "cell_type": "code",
      "metadata": {
        "id": "VXbLldTSd0mJ"
      },
      "source": [
        "from tensorflow.keras import models, layers, utils\n",
        "from tensorflow.keras.models import Model\n",
        "from tensorflow.keras.layers import BatchNormalization, Activation, Flatten\n",
        "from tensorflow.keras.optimizers import Adam\n",
        "from tensorflow.keras.datasets import cifar10\n",
        "from tensorflow.keras.preprocessing.image import ImageDataGenerator\n",
        "from tensorflow.keras.callbacks import ModelCheckpoint, LearningRateScheduler, Callback, ReduceLROnPlateau\n",
        "from keras.models import load_model"
      ],
      "execution_count": null,
      "outputs": []
    },
    {
      "cell_type": "markdown",
      "metadata": {
        "id": "6mtpHaNsiFwP"
      },
      "source": [
        "Linking my google drive account to colab.\n"
      ]
    },
    {
      "cell_type": "code",
      "metadata": {
        "colab": {
          "base_uri": "https://localhost:8080/"
        },
        "id": "fJW4D4INeXA0",
        "outputId": "7a8e80c8-1bbe-4da6-8db8-d36ecb042825"
      },
      "source": [
        "from google.colab import drive\n",
        "drive.mount('/content/drive')"
      ],
      "execution_count": null,
      "outputs": [
        {
          "name": "stdout",
          "output_type": "stream",
          "text": [
            "Drive already mounted at /content/drive; to attempt to forcibly remount, call drive.mount(\"/content/drive\", force_remount=True).\n"
          ]
        }
      ]
    },
    {
      "cell_type": "markdown",
      "metadata": {
        "id": "9Y-fN-zeiMiR"
      },
      "source": [
        "Initializing the hyperparameters as needed."
      ]
    },
    {
      "cell_type": "code",
      "metadata": {
        "id": "Wv6m79NzeHoK"
      },
      "source": [
        "batch_size = 128\n",
        "num_classes = 10\n",
        "l = 6\n",
        "num_filter = 35\n",
        "compression = 1.0"
      ],
      "execution_count": null,
      "outputs": []
    },
    {
      "cell_type": "markdown",
      "metadata": {
        "id": "Mc4y33_lifR4"
      },
      "source": [
        "Loading all the observations and their corresponding labels."
      ]
    },
    {
      "cell_type": "code",
      "metadata": {
        "id": "QgvlJX_regrd"
      },
      "source": [
        "(X_train, y_train), (X_test, y_test) = cifar10.load_data()\n",
        "img_height, img_width, channel = X_train.shape[1],X_train.shape[2],X_train.shape[3]\n",
        "\n",
        "y_train = utils.to_categorical(y_train, num_classes)\n",
        "y_test = utils.to_categorical(y_test, num_classes) "
      ],
      "execution_count": null,
      "outputs": []
    },
    {
      "cell_type": "markdown",
      "metadata": {
        "id": "SKpkEMsol5yN"
      },
      "source": [
        "We are using the DenseNet architecture of Convolutional Neural Networks as the our model for training and evaluation. "
      ]
    },
    {
      "cell_type": "code",
      "metadata": {
        "id": "zR2a5dKgekuB"
      },
      "source": [
        "def denseblock(input, num_filter = 12):\n",
        "    global compression\n",
        "    temp = input\n",
        "    for _ in range(l): \n",
        "        BatchNorm = layers.BatchNormalization()(temp)\n",
        "        relu = layers.Activation('relu')(BatchNorm)\n",
        "        Conv2D_3_3 = layers.Conv2D(int(num_filter*compression), (3,3), use_bias=False ,padding='same')(relu)\n",
        "        concat = layers.Concatenate(axis=-1)([temp,Conv2D_3_3])\n",
        "        temp = concat\n",
        "    return temp"
      ],
      "execution_count": null,
      "outputs": []
    },
    {
      "cell_type": "code",
      "metadata": {
        "id": "c4hKPd2pem8s"
      },
      "source": [
        "def transition(input, num_filter = 12):\n",
        "    global compression\n",
        "    BatchNorm = layers.BatchNormalization()(input)\n",
        "    relu = layers.Activation('relu')(BatchNorm)\n",
        "    Conv2D_BottleNeck = layers.Conv2D(int(num_filter*compression), (1,1), use_bias=False ,padding='same')(relu)\n",
        "    avg = layers.AveragePooling2D(pool_size=(2,2))(Conv2D_BottleNeck)\n",
        "    return avg"
      ],
      "execution_count": null,
      "outputs": []
    },
    {
      "cell_type": "code",
      "metadata": {
        "id": "iu0UMJ35epFr"
      },
      "source": [
        "def output_layer(input):\n",
        "    global compression\n",
        "    BatchNorm = layers.BatchNormalization()(input)\n",
        "    relu = layers.Activation('relu')(BatchNorm)\n",
        "    AvgPooling = layers.AveragePooling2D(pool_size=(2,2))(relu)\n",
        "    flat = layers.Flatten()(AvgPooling)\n",
        "    output = layers.Dense(num_classes, activation='softmax')(flat)\n",
        "    return output"
      ],
      "execution_count": null,
      "outputs": []
    },
    {
      "cell_type": "code",
      "metadata": {
        "id": "yIeM7n8berFG"
      },
      "source": [
        "input = layers.Input(shape=(img_height, img_width, channel))\n",
        "First_Conv2D = layers.Conv2D(num_filter, (3,3), use_bias=False ,padding='same')(input)\n",
        "\n",
        "First_Block = denseblock(First_Conv2D, num_filter)\n",
        "First_Transition = transition(First_Block, num_filter)\n",
        "\n",
        "Second_Block = denseblock(First_Transition, num_filter)\n",
        "Second_Transition = transition(Second_Block, num_filter)\n",
        "\n",
        "Third_Block = denseblock(Second_Transition, num_filter)\n",
        "Third_Transition = transition(Third_Block, num_filter)\n",
        "\n",
        "Last_Block = denseblock(Third_Transition,  num_filter)\n",
        "output = output_layer(Last_Block)"
      ],
      "execution_count": null,
      "outputs": []
    },
    {
      "cell_type": "code",
      "metadata": {
        "colab": {
          "base_uri": "https://localhost:8080/"
        },
        "id": "O2yckTmyetZT",
        "outputId": "45569762-489c-4096-ab03-511766938daf"
      },
      "source": [
        "model = Model(inputs=[input], outputs=[output])\n",
        "model.summary()"
      ],
      "execution_count": null,
      "outputs": [
        {
          "name": "stdout",
          "output_type": "stream",
          "text": [
            "Model: \"model\"\n",
            "__________________________________________________________________________________________________\n",
            "Layer (type)                    Output Shape         Param #     Connected to                     \n",
            "==================================================================================================\n",
            "input_1 (InputLayer)            [(None, 32, 32, 3)]  0                                            \n",
            "__________________________________________________________________________________________________\n",
            "conv2d (Conv2D)                 (None, 32, 32, 35)   945         input_1[0][0]                    \n",
            "__________________________________________________________________________________________________\n",
            "batch_normalization (BatchNorma (None, 32, 32, 35)   140         conv2d[0][0]                     \n",
            "__________________________________________________________________________________________________\n",
            "activation (Activation)         (None, 32, 32, 35)   0           batch_normalization[0][0]        \n",
            "__________________________________________________________________________________________________\n",
            "conv2d_1 (Conv2D)               (None, 32, 32, 35)   11025       activation[0][0]                 \n",
            "__________________________________________________________________________________________________\n",
            "concatenate (Concatenate)       (None, 32, 32, 70)   0           conv2d[0][0]                     \n",
            "                                                                 conv2d_1[0][0]                   \n",
            "__________________________________________________________________________________________________\n",
            "batch_normalization_1 (BatchNor (None, 32, 32, 70)   280         concatenate[0][0]                \n",
            "__________________________________________________________________________________________________\n",
            "activation_1 (Activation)       (None, 32, 32, 70)   0           batch_normalization_1[0][0]      \n",
            "__________________________________________________________________________________________________\n",
            "conv2d_2 (Conv2D)               (None, 32, 32, 35)   22050       activation_1[0][0]               \n",
            "__________________________________________________________________________________________________\n",
            "concatenate_1 (Concatenate)     (None, 32, 32, 105)  0           concatenate[0][0]                \n",
            "                                                                 conv2d_2[0][0]                   \n",
            "__________________________________________________________________________________________________\n",
            "batch_normalization_2 (BatchNor (None, 32, 32, 105)  420         concatenate_1[0][0]              \n",
            "__________________________________________________________________________________________________\n",
            "activation_2 (Activation)       (None, 32, 32, 105)  0           batch_normalization_2[0][0]      \n",
            "__________________________________________________________________________________________________\n",
            "conv2d_3 (Conv2D)               (None, 32, 32, 35)   33075       activation_2[0][0]               \n",
            "__________________________________________________________________________________________________\n",
            "concatenate_2 (Concatenate)     (None, 32, 32, 140)  0           concatenate_1[0][0]              \n",
            "                                                                 conv2d_3[0][0]                   \n",
            "__________________________________________________________________________________________________\n",
            "batch_normalization_3 (BatchNor (None, 32, 32, 140)  560         concatenate_2[0][0]              \n",
            "__________________________________________________________________________________________________\n",
            "activation_3 (Activation)       (None, 32, 32, 140)  0           batch_normalization_3[0][0]      \n",
            "__________________________________________________________________________________________________\n",
            "conv2d_4 (Conv2D)               (None, 32, 32, 35)   44100       activation_3[0][0]               \n",
            "__________________________________________________________________________________________________\n",
            "concatenate_3 (Concatenate)     (None, 32, 32, 175)  0           concatenate_2[0][0]              \n",
            "                                                                 conv2d_4[0][0]                   \n",
            "__________________________________________________________________________________________________\n",
            "batch_normalization_4 (BatchNor (None, 32, 32, 175)  700         concatenate_3[0][0]              \n",
            "__________________________________________________________________________________________________\n",
            "activation_4 (Activation)       (None, 32, 32, 175)  0           batch_normalization_4[0][0]      \n",
            "__________________________________________________________________________________________________\n",
            "conv2d_5 (Conv2D)               (None, 32, 32, 35)   55125       activation_4[0][0]               \n",
            "__________________________________________________________________________________________________\n",
            "concatenate_4 (Concatenate)     (None, 32, 32, 210)  0           concatenate_3[0][0]              \n",
            "                                                                 conv2d_5[0][0]                   \n",
            "__________________________________________________________________________________________________\n",
            "batch_normalization_5 (BatchNor (None, 32, 32, 210)  840         concatenate_4[0][0]              \n",
            "__________________________________________________________________________________________________\n",
            "activation_5 (Activation)       (None, 32, 32, 210)  0           batch_normalization_5[0][0]      \n",
            "__________________________________________________________________________________________________\n",
            "conv2d_6 (Conv2D)               (None, 32, 32, 35)   66150       activation_5[0][0]               \n",
            "__________________________________________________________________________________________________\n",
            "concatenate_5 (Concatenate)     (None, 32, 32, 245)  0           concatenate_4[0][0]              \n",
            "                                                                 conv2d_6[0][0]                   \n",
            "__________________________________________________________________________________________________\n",
            "batch_normalization_6 (BatchNor (None, 32, 32, 245)  980         concatenate_5[0][0]              \n",
            "__________________________________________________________________________________________________\n",
            "activation_6 (Activation)       (None, 32, 32, 245)  0           batch_normalization_6[0][0]      \n",
            "__________________________________________________________________________________________________\n",
            "conv2d_7 (Conv2D)               (None, 32, 32, 35)   8575        activation_6[0][0]               \n",
            "__________________________________________________________________________________________________\n",
            "average_pooling2d (AveragePooli (None, 16, 16, 35)   0           conv2d_7[0][0]                   \n",
            "__________________________________________________________________________________________________\n",
            "batch_normalization_7 (BatchNor (None, 16, 16, 35)   140         average_pooling2d[0][0]          \n",
            "__________________________________________________________________________________________________\n",
            "activation_7 (Activation)       (None, 16, 16, 35)   0           batch_normalization_7[0][0]      \n",
            "__________________________________________________________________________________________________\n",
            "conv2d_8 (Conv2D)               (None, 16, 16, 35)   11025       activation_7[0][0]               \n",
            "__________________________________________________________________________________________________\n",
            "concatenate_6 (Concatenate)     (None, 16, 16, 70)   0           average_pooling2d[0][0]          \n",
            "                                                                 conv2d_8[0][0]                   \n",
            "__________________________________________________________________________________________________\n",
            "batch_normalization_8 (BatchNor (None, 16, 16, 70)   280         concatenate_6[0][0]              \n",
            "__________________________________________________________________________________________________\n",
            "activation_8 (Activation)       (None, 16, 16, 70)   0           batch_normalization_8[0][0]      \n",
            "__________________________________________________________________________________________________\n",
            "conv2d_9 (Conv2D)               (None, 16, 16, 35)   22050       activation_8[0][0]               \n",
            "__________________________________________________________________________________________________\n",
            "concatenate_7 (Concatenate)     (None, 16, 16, 105)  0           concatenate_6[0][0]              \n",
            "                                                                 conv2d_9[0][0]                   \n",
            "__________________________________________________________________________________________________\n",
            "batch_normalization_9 (BatchNor (None, 16, 16, 105)  420         concatenate_7[0][0]              \n",
            "__________________________________________________________________________________________________\n",
            "activation_9 (Activation)       (None, 16, 16, 105)  0           batch_normalization_9[0][0]      \n",
            "__________________________________________________________________________________________________\n",
            "conv2d_10 (Conv2D)              (None, 16, 16, 35)   33075       activation_9[0][0]               \n",
            "__________________________________________________________________________________________________\n",
            "concatenate_8 (Concatenate)     (None, 16, 16, 140)  0           concatenate_7[0][0]              \n",
            "                                                                 conv2d_10[0][0]                  \n",
            "__________________________________________________________________________________________________\n",
            "batch_normalization_10 (BatchNo (None, 16, 16, 140)  560         concatenate_8[0][0]              \n",
            "__________________________________________________________________________________________________\n",
            "activation_10 (Activation)      (None, 16, 16, 140)  0           batch_normalization_10[0][0]     \n",
            "__________________________________________________________________________________________________\n",
            "conv2d_11 (Conv2D)              (None, 16, 16, 35)   44100       activation_10[0][0]              \n",
            "__________________________________________________________________________________________________\n",
            "concatenate_9 (Concatenate)     (None, 16, 16, 175)  0           concatenate_8[0][0]              \n",
            "                                                                 conv2d_11[0][0]                  \n",
            "__________________________________________________________________________________________________\n",
            "batch_normalization_11 (BatchNo (None, 16, 16, 175)  700         concatenate_9[0][0]              \n",
            "__________________________________________________________________________________________________\n",
            "activation_11 (Activation)      (None, 16, 16, 175)  0           batch_normalization_11[0][0]     \n",
            "__________________________________________________________________________________________________\n",
            "conv2d_12 (Conv2D)              (None, 16, 16, 35)   55125       activation_11[0][0]              \n",
            "__________________________________________________________________________________________________\n",
            "concatenate_10 (Concatenate)    (None, 16, 16, 210)  0           concatenate_9[0][0]              \n",
            "                                                                 conv2d_12[0][0]                  \n",
            "__________________________________________________________________________________________________\n",
            "batch_normalization_12 (BatchNo (None, 16, 16, 210)  840         concatenate_10[0][0]             \n",
            "__________________________________________________________________________________________________\n",
            "activation_12 (Activation)      (None, 16, 16, 210)  0           batch_normalization_12[0][0]     \n",
            "__________________________________________________________________________________________________\n",
            "conv2d_13 (Conv2D)              (None, 16, 16, 35)   66150       activation_12[0][0]              \n",
            "__________________________________________________________________________________________________\n",
            "concatenate_11 (Concatenate)    (None, 16, 16, 245)  0           concatenate_10[0][0]             \n",
            "                                                                 conv2d_13[0][0]                  \n",
            "__________________________________________________________________________________________________\n",
            "batch_normalization_13 (BatchNo (None, 16, 16, 245)  980         concatenate_11[0][0]             \n",
            "__________________________________________________________________________________________________\n",
            "activation_13 (Activation)      (None, 16, 16, 245)  0           batch_normalization_13[0][0]     \n",
            "__________________________________________________________________________________________________\n",
            "conv2d_14 (Conv2D)              (None, 16, 16, 35)   8575        activation_13[0][0]              \n",
            "__________________________________________________________________________________________________\n",
            "average_pooling2d_1 (AveragePoo (None, 8, 8, 35)     0           conv2d_14[0][0]                  \n",
            "__________________________________________________________________________________________________\n",
            "batch_normalization_14 (BatchNo (None, 8, 8, 35)     140         average_pooling2d_1[0][0]        \n",
            "__________________________________________________________________________________________________\n",
            "activation_14 (Activation)      (None, 8, 8, 35)     0           batch_normalization_14[0][0]     \n",
            "__________________________________________________________________________________________________\n",
            "conv2d_15 (Conv2D)              (None, 8, 8, 35)     11025       activation_14[0][0]              \n",
            "__________________________________________________________________________________________________\n",
            "concatenate_12 (Concatenate)    (None, 8, 8, 70)     0           average_pooling2d_1[0][0]        \n",
            "                                                                 conv2d_15[0][0]                  \n",
            "__________________________________________________________________________________________________\n",
            "batch_normalization_15 (BatchNo (None, 8, 8, 70)     280         concatenate_12[0][0]             \n",
            "__________________________________________________________________________________________________\n",
            "activation_15 (Activation)      (None, 8, 8, 70)     0           batch_normalization_15[0][0]     \n",
            "__________________________________________________________________________________________________\n",
            "conv2d_16 (Conv2D)              (None, 8, 8, 35)     22050       activation_15[0][0]              \n",
            "__________________________________________________________________________________________________\n",
            "concatenate_13 (Concatenate)    (None, 8, 8, 105)    0           concatenate_12[0][0]             \n",
            "                                                                 conv2d_16[0][0]                  \n",
            "__________________________________________________________________________________________________\n",
            "batch_normalization_16 (BatchNo (None, 8, 8, 105)    420         concatenate_13[0][0]             \n",
            "__________________________________________________________________________________________________\n",
            "activation_16 (Activation)      (None, 8, 8, 105)    0           batch_normalization_16[0][0]     \n",
            "__________________________________________________________________________________________________\n",
            "conv2d_17 (Conv2D)              (None, 8, 8, 35)     33075       activation_16[0][0]              \n",
            "__________________________________________________________________________________________________\n",
            "concatenate_14 (Concatenate)    (None, 8, 8, 140)    0           concatenate_13[0][0]             \n",
            "                                                                 conv2d_17[0][0]                  \n",
            "__________________________________________________________________________________________________\n",
            "batch_normalization_17 (BatchNo (None, 8, 8, 140)    560         concatenate_14[0][0]             \n",
            "__________________________________________________________________________________________________\n",
            "activation_17 (Activation)      (None, 8, 8, 140)    0           batch_normalization_17[0][0]     \n",
            "__________________________________________________________________________________________________\n",
            "conv2d_18 (Conv2D)              (None, 8, 8, 35)     44100       activation_17[0][0]              \n",
            "__________________________________________________________________________________________________\n",
            "concatenate_15 (Concatenate)    (None, 8, 8, 175)    0           concatenate_14[0][0]             \n",
            "                                                                 conv2d_18[0][0]                  \n",
            "__________________________________________________________________________________________________\n",
            "batch_normalization_18 (BatchNo (None, 8, 8, 175)    700         concatenate_15[0][0]             \n",
            "__________________________________________________________________________________________________\n",
            "activation_18 (Activation)      (None, 8, 8, 175)    0           batch_normalization_18[0][0]     \n",
            "__________________________________________________________________________________________________\n",
            "conv2d_19 (Conv2D)              (None, 8, 8, 35)     55125       activation_18[0][0]              \n",
            "__________________________________________________________________________________________________\n",
            "concatenate_16 (Concatenate)    (None, 8, 8, 210)    0           concatenate_15[0][0]             \n",
            "                                                                 conv2d_19[0][0]                  \n",
            "__________________________________________________________________________________________________\n",
            "batch_normalization_19 (BatchNo (None, 8, 8, 210)    840         concatenate_16[0][0]             \n",
            "__________________________________________________________________________________________________\n",
            "activation_19 (Activation)      (None, 8, 8, 210)    0           batch_normalization_19[0][0]     \n",
            "__________________________________________________________________________________________________\n",
            "conv2d_20 (Conv2D)              (None, 8, 8, 35)     66150       activation_19[0][0]              \n",
            "__________________________________________________________________________________________________\n",
            "concatenate_17 (Concatenate)    (None, 8, 8, 245)    0           concatenate_16[0][0]             \n",
            "                                                                 conv2d_20[0][0]                  \n",
            "__________________________________________________________________________________________________\n",
            "batch_normalization_20 (BatchNo (None, 8, 8, 245)    980         concatenate_17[0][0]             \n",
            "__________________________________________________________________________________________________\n",
            "activation_20 (Activation)      (None, 8, 8, 245)    0           batch_normalization_20[0][0]     \n",
            "__________________________________________________________________________________________________\n",
            "conv2d_21 (Conv2D)              (None, 8, 8, 35)     8575        activation_20[0][0]              \n",
            "__________________________________________________________________________________________________\n",
            "average_pooling2d_2 (AveragePoo (None, 4, 4, 35)     0           conv2d_21[0][0]                  \n",
            "__________________________________________________________________________________________________\n",
            "batch_normalization_21 (BatchNo (None, 4, 4, 35)     140         average_pooling2d_2[0][0]        \n",
            "__________________________________________________________________________________________________\n",
            "activation_21 (Activation)      (None, 4, 4, 35)     0           batch_normalization_21[0][0]     \n",
            "__________________________________________________________________________________________________\n",
            "conv2d_22 (Conv2D)              (None, 4, 4, 35)     11025       activation_21[0][0]              \n",
            "__________________________________________________________________________________________________\n",
            "concatenate_18 (Concatenate)    (None, 4, 4, 70)     0           average_pooling2d_2[0][0]        \n",
            "                                                                 conv2d_22[0][0]                  \n",
            "__________________________________________________________________________________________________\n",
            "batch_normalization_22 (BatchNo (None, 4, 4, 70)     280         concatenate_18[0][0]             \n",
            "__________________________________________________________________________________________________\n",
            "activation_22 (Activation)      (None, 4, 4, 70)     0           batch_normalization_22[0][0]     \n",
            "__________________________________________________________________________________________________\n",
            "conv2d_23 (Conv2D)              (None, 4, 4, 35)     22050       activation_22[0][0]              \n",
            "__________________________________________________________________________________________________\n",
            "concatenate_19 (Concatenate)    (None, 4, 4, 105)    0           concatenate_18[0][0]             \n",
            "                                                                 conv2d_23[0][0]                  \n",
            "__________________________________________________________________________________________________\n",
            "batch_normalization_23 (BatchNo (None, 4, 4, 105)    420         concatenate_19[0][0]             \n",
            "__________________________________________________________________________________________________\n",
            "activation_23 (Activation)      (None, 4, 4, 105)    0           batch_normalization_23[0][0]     \n",
            "__________________________________________________________________________________________________\n",
            "conv2d_24 (Conv2D)              (None, 4, 4, 35)     33075       activation_23[0][0]              \n",
            "__________________________________________________________________________________________________\n",
            "concatenate_20 (Concatenate)    (None, 4, 4, 140)    0           concatenate_19[0][0]             \n",
            "                                                                 conv2d_24[0][0]                  \n",
            "__________________________________________________________________________________________________\n",
            "batch_normalization_24 (BatchNo (None, 4, 4, 140)    560         concatenate_20[0][0]             \n",
            "__________________________________________________________________________________________________\n",
            "activation_24 (Activation)      (None, 4, 4, 140)    0           batch_normalization_24[0][0]     \n",
            "__________________________________________________________________________________________________\n",
            "conv2d_25 (Conv2D)              (None, 4, 4, 35)     44100       activation_24[0][0]              \n",
            "__________________________________________________________________________________________________\n",
            "concatenate_21 (Concatenate)    (None, 4, 4, 175)    0           concatenate_20[0][0]             \n",
            "                                                                 conv2d_25[0][0]                  \n",
            "__________________________________________________________________________________________________\n",
            "batch_normalization_25 (BatchNo (None, 4, 4, 175)    700         concatenate_21[0][0]             \n",
            "__________________________________________________________________________________________________\n",
            "activation_25 (Activation)      (None, 4, 4, 175)    0           batch_normalization_25[0][0]     \n",
            "__________________________________________________________________________________________________\n",
            "conv2d_26 (Conv2D)              (None, 4, 4, 35)     55125       activation_25[0][0]              \n",
            "__________________________________________________________________________________________________\n",
            "concatenate_22 (Concatenate)    (None, 4, 4, 210)    0           concatenate_21[0][0]             \n",
            "                                                                 conv2d_26[0][0]                  \n",
            "__________________________________________________________________________________________________\n",
            "batch_normalization_26 (BatchNo (None, 4, 4, 210)    840         concatenate_22[0][0]             \n",
            "__________________________________________________________________________________________________\n",
            "activation_26 (Activation)      (None, 4, 4, 210)    0           batch_normalization_26[0][0]     \n",
            "__________________________________________________________________________________________________\n",
            "conv2d_27 (Conv2D)              (None, 4, 4, 35)     66150       activation_26[0][0]              \n",
            "__________________________________________________________________________________________________\n",
            "concatenate_23 (Concatenate)    (None, 4, 4, 245)    0           concatenate_22[0][0]             \n",
            "                                                                 conv2d_27[0][0]                  \n",
            "__________________________________________________________________________________________________\n",
            "batch_normalization_27 (BatchNo (None, 4, 4, 245)    980         concatenate_23[0][0]             \n",
            "__________________________________________________________________________________________________\n",
            "activation_27 (Activation)      (None, 4, 4, 245)    0           batch_normalization_27[0][0]     \n",
            "__________________________________________________________________________________________________\n",
            "average_pooling2d_3 (AveragePoo (None, 2, 2, 245)    0           activation_27[0][0]              \n",
            "__________________________________________________________________________________________________\n",
            "flatten (Flatten)               (None, 980)          0           average_pooling2d_3[0][0]        \n",
            "__________________________________________________________________________________________________\n",
            "dense (Dense)                   (None, 10)           9810        flatten[0][0]                    \n",
            "==================================================================================================\n",
            "Total params: 978,260\n",
            "Trainable params: 970,420\n",
            "Non-trainable params: 7,840\n",
            "__________________________________________________________________________________________________\n"
          ]
        }
      ]
    },
    {
      "cell_type": "code",
      "metadata": {
        "id": "-pldGhZ4ewIj"
      },
      "source": [
        "filepath = '/content/drive/MyDrive/CIFT instance 1'\n",
        "checkpoint = ModelCheckpoint(filepath=filepath+'/model.hdf5',monitor='val_accuracy',verbose=1, save_best_only=True)\n",
        "model.compile(loss='categorical_crossentropy',optimizer=Adam(),metrics=['accuracy'])"
      ],
      "execution_count": null,
      "outputs": []
    },
    {
      "cell_type": "markdown",
      "metadata": {
        "id": "QoTdYqJlmlDM"
      },
      "source": [
        "Training the model and evalution its performence of the test data after a fixed number of epochs."
      ]
    },
    {
      "cell_type": "code",
      "metadata": {
        "colab": {
          "base_uri": "https://localhost:8080/"
        },
        "id": "g2e_6xI3e59R",
        "outputId": "bc64a547-6492-4894-9ab5-9a4fb5bdf0cb"
      },
      "source": [
        "datagen = ImageDataGenerator(rotation_range=10,zoom_range=0.1,width_shift_range=0.1,height_shift_range=0.1)\n",
        "datagen.fit(X_train)\n",
        "model.fit(datagen.flow(X_train,y_train),batch_size=batch_size,steps_per_epoch=int(len(X_train)/batch_size), epochs=20,validation_data=(X_test, y_test),callbacks=[checkpoint])\n",
        "model.save_weights(filepath+'/model_epoch20.h5')"
      ],
      "execution_count": null,
      "outputs": [
        {
          "name": "stdout",
          "output_type": "stream",
          "text": [
            "Epoch 1/20\n",
            "390/390 [==============================] - 30s 53ms/step - loss: 1.9513 - accuracy: 0.2888 - val_loss: 2.0713 - val_accuracy: 0.2653\n",
            "\n",
            "Epoch 00001: val_accuracy improved from -inf to 0.26530, saving model to /content/drive/MyDrive/CIFT instance 1/model.hdf5\n",
            "Epoch 2/20\n",
            "390/390 [==============================] - 19s 49ms/step - loss: 1.5226 - accuracy: 0.4496 - val_loss: 2.2286 - val_accuracy: 0.3441\n",
            "\n",
            "Epoch 00002: val_accuracy improved from 0.26530 to 0.34410, saving model to /content/drive/MyDrive/CIFT instance 1/model.hdf5\n",
            "Epoch 3/20\n",
            "390/390 [==============================] - 19s 49ms/step - loss: 1.3106 - accuracy: 0.5295 - val_loss: 1.3603 - val_accuracy: 0.5242\n",
            "\n",
            "Epoch 00003: val_accuracy improved from 0.34410 to 0.52420, saving model to /content/drive/MyDrive/CIFT instance 1/model.hdf5\n",
            "Epoch 4/20\n",
            "390/390 [==============================] - 19s 49ms/step - loss: 1.1400 - accuracy: 0.5890 - val_loss: 1.1706 - val_accuracy: 0.5859\n",
            "\n",
            "Epoch 00004: val_accuracy improved from 0.52420 to 0.58590, saving model to /content/drive/MyDrive/CIFT instance 1/model.hdf5\n",
            "Epoch 5/20\n",
            "390/390 [==============================] - 19s 49ms/step - loss: 1.0021 - accuracy: 0.6463 - val_loss: 1.6792 - val_accuracy: 0.5049\n",
            "\n",
            "Epoch 00005: val_accuracy did not improve from 0.58590\n",
            "Epoch 6/20\n",
            "390/390 [==============================] - 19s 49ms/step - loss: 0.9433 - accuracy: 0.6610 - val_loss: 1.1496 - val_accuracy: 0.6155\n",
            "\n",
            "Epoch 00006: val_accuracy improved from 0.58590 to 0.61550, saving model to /content/drive/MyDrive/CIFT instance 1/model.hdf5\n",
            "Epoch 7/20\n",
            "390/390 [==============================] - 19s 49ms/step - loss: 0.8901 - accuracy: 0.6759 - val_loss: 0.9722 - val_accuracy: 0.6787\n",
            "\n",
            "Epoch 00007: val_accuracy improved from 0.61550 to 0.67870, saving model to /content/drive/MyDrive/CIFT instance 1/model.hdf5\n",
            "Epoch 8/20\n",
            "390/390 [==============================] - 19s 49ms/step - loss: 0.8290 - accuracy: 0.7063 - val_loss: 0.9571 - val_accuracy: 0.6769\n",
            "\n",
            "Epoch 00008: val_accuracy did not improve from 0.67870\n",
            "Epoch 9/20\n",
            "390/390 [==============================] - 19s 49ms/step - loss: 0.7845 - accuracy: 0.7275 - val_loss: 1.3074 - val_accuracy: 0.6129\n",
            "\n",
            "Epoch 00009: val_accuracy did not improve from 0.67870\n",
            "Epoch 10/20\n",
            "390/390 [==============================] - 19s 49ms/step - loss: 0.7456 - accuracy: 0.7475 - val_loss: 0.8644 - val_accuracy: 0.7120\n",
            "\n",
            "Epoch 00010: val_accuracy improved from 0.67870 to 0.71200, saving model to /content/drive/MyDrive/CIFT instance 1/model.hdf5\n",
            "Epoch 11/20\n",
            "390/390 [==============================] - 19s 49ms/step - loss: 0.7327 - accuracy: 0.7447 - val_loss: 1.0231 - val_accuracy: 0.6731\n",
            "\n",
            "Epoch 00011: val_accuracy did not improve from 0.71200\n",
            "Epoch 12/20\n",
            "390/390 [==============================] - 19s 49ms/step - loss: 0.7067 - accuracy: 0.7504 - val_loss: 0.9480 - val_accuracy: 0.7025\n",
            "\n",
            "Epoch 00012: val_accuracy did not improve from 0.71200\n",
            "Epoch 13/20\n",
            "390/390 [==============================] - 19s 49ms/step - loss: 0.6718 - accuracy: 0.7689 - val_loss: 0.8306 - val_accuracy: 0.7304\n",
            "\n",
            "Epoch 00013: val_accuracy improved from 0.71200 to 0.73040, saving model to /content/drive/MyDrive/CIFT instance 1/model.hdf5\n",
            "Epoch 14/20\n",
            "390/390 [==============================] - 19s 50ms/step - loss: 0.6283 - accuracy: 0.7819 - val_loss: 0.7925 - val_accuracy: 0.7407\n",
            "\n",
            "Epoch 00014: val_accuracy improved from 0.73040 to 0.74070, saving model to /content/drive/MyDrive/CIFT instance 1/model.hdf5\n",
            "Epoch 15/20\n",
            "390/390 [==============================] - 19s 49ms/step - loss: 0.6124 - accuracy: 0.7855 - val_loss: 0.7516 - val_accuracy: 0.7506\n",
            "\n",
            "Epoch 00015: val_accuracy improved from 0.74070 to 0.75060, saving model to /content/drive/MyDrive/CIFT instance 1/model.hdf5\n",
            "Epoch 16/20\n",
            "390/390 [==============================] - 19s 49ms/step - loss: 0.6005 - accuracy: 0.7904 - val_loss: 0.8718 - val_accuracy: 0.7321\n",
            "\n",
            "Epoch 00016: val_accuracy did not improve from 0.75060\n",
            "Epoch 17/20\n",
            "390/390 [==============================] - 19s 50ms/step - loss: 0.5800 - accuracy: 0.7948 - val_loss: 0.7082 - val_accuracy: 0.7647\n",
            "\n",
            "Epoch 00017: val_accuracy improved from 0.75060 to 0.76470, saving model to /content/drive/MyDrive/CIFT instance 1/model.hdf5\n",
            "Epoch 18/20\n",
            "390/390 [==============================] - 19s 50ms/step - loss: 0.5637 - accuracy: 0.8048 - val_loss: 0.7479 - val_accuracy: 0.7601\n",
            "\n",
            "Epoch 00018: val_accuracy did not improve from 0.76470\n",
            "Epoch 19/20\n",
            "390/390 [==============================] - 19s 50ms/step - loss: 0.5428 - accuracy: 0.8127 - val_loss: 0.5961 - val_accuracy: 0.8025\n",
            "\n",
            "Epoch 00019: val_accuracy improved from 0.76470 to 0.80250, saving model to /content/drive/MyDrive/CIFT instance 1/model.hdf5\n",
            "Epoch 20/20\n",
            "390/390 [==============================] - 19s 50ms/step - loss: 0.5349 - accuracy: 0.8182 - val_loss: 0.6992 - val_accuracy: 0.7695\n",
            "\n",
            "Epoch 00020: val_accuracy did not improve from 0.80250\n"
          ]
        }
      ]
    },
    {
      "cell_type": "code",
      "metadata": {
        "colab": {
          "base_uri": "https://localhost:8080/"
        },
        "id": "w9uTh-q6hKrv",
        "outputId": "3dc89d10-2ba7-4a0f-b6cc-2c57434338af"
      },
      "source": [
        "model.evaluate(X_test,y_test)"
      ],
      "execution_count": null,
      "outputs": [
        {
          "name": "stdout",
          "output_type": "stream",
          "text": [
            "313/313 [==============================] - 4s 12ms/step - loss: 0.3806 - accuracy: 0.8753\n"
          ]
        },
        {
          "data": {
            "text/plain": [
              "[0.3806301951408386, 0.8752999901771545]"
            ]
          },
          "execution_count": 30,
          "metadata": {
            "tags": []
          },
          "output_type": "execute_result"
        }
      ]
    },
    {
      "cell_type": "code",
      "metadata": {
        "id": "EfDwbuWHhOR8"
      },
      "source": [
        "model = load_model('/content/drive/MyDrive/CIFT instance 1/model.hdf5')"
      ],
      "execution_count": null,
      "outputs": []
    },
    {
      "cell_type": "code",
      "metadata": {
        "colab": {
          "base_uri": "https://localhost:8080/"
        },
        "id": "f9CKpMp3kWrS",
        "outputId": "5576ffba-8f12-4d10-887a-76dcf58acaf8"
      },
      "source": [
        "def scheduler(epoch,lr):\n",
        "  if epoch < 3:\n",
        "    return lr\n",
        "  else:\n",
        "    return lr*0.1\n",
        "\n",
        "# model.load_weights(filepath+'/pseudo_model_epoch20.h5')\n",
        "schedule = LearningRateScheduler(scheduler)\n",
        "model.fit(datagen.flow(X_train,y_train),batch_size=batch_size,steps_per_epoch=int(len(X_train)/batch_size), epochs=20,validation_data=(X_test, y_test),callbacks=[checkpoint, schedule])\n",
        "model.save_weights(filepath+'/model_epoch40.h5')"
      ],
      "execution_count": null,
      "outputs": [
        {
          "name": "stdout",
          "output_type": "stream",
          "text": [
            "Epoch 1/20\n",
            "390/390 [==============================] - 21s 50ms/step - loss: 0.5397 - accuracy: 0.8119 - val_loss: 0.9317 - val_accuracy: 0.7089\n",
            "\n",
            "Epoch 00001: val_accuracy did not improve from 0.80250\n",
            "Epoch 2/20\n",
            "390/390 [==============================] - 19s 50ms/step - loss: 0.5397 - accuracy: 0.8084 - val_loss: 0.9188 - val_accuracy: 0.7145\n",
            "\n",
            "Epoch 00002: val_accuracy did not improve from 0.80250\n",
            "Epoch 3/20\n",
            "390/390 [==============================] - 19s 49ms/step - loss: 0.5173 - accuracy: 0.8182 - val_loss: 0.7313 - val_accuracy: 0.7631\n",
            "\n",
            "Epoch 00003: val_accuracy did not improve from 0.80250\n",
            "Epoch 4/20\n",
            "390/390 [==============================] - 19s 49ms/step - loss: 0.4262 - accuracy: 0.8551 - val_loss: 0.4888 - val_accuracy: 0.8372\n",
            "\n",
            "Epoch 00004: val_accuracy improved from 0.80250 to 0.83720, saving model to /content/drive/MyDrive/CIFT instance 1/model.hdf5\n",
            "Epoch 5/20\n",
            "390/390 [==============================] - 19s 50ms/step - loss: 0.3874 - accuracy: 0.8671 - val_loss: 0.4835 - val_accuracy: 0.8387\n",
            "\n",
            "Epoch 00005: val_accuracy improved from 0.83720 to 0.83870, saving model to /content/drive/MyDrive/CIFT instance 1/model.hdf5\n",
            "Epoch 6/20\n",
            "390/390 [==============================] - 19s 50ms/step - loss: 0.3853 - accuracy: 0.8680 - val_loss: 0.4833 - val_accuracy: 0.8384\n",
            "\n",
            "Epoch 00006: val_accuracy did not improve from 0.83870\n",
            "Epoch 7/20\n",
            "390/390 [==============================] - 19s 49ms/step - loss: 0.3920 - accuracy: 0.8647 - val_loss: 0.4826 - val_accuracy: 0.8394\n",
            "\n",
            "Epoch 00007: val_accuracy improved from 0.83870 to 0.83940, saving model to /content/drive/MyDrive/CIFT instance 1/model.hdf5\n",
            "Epoch 8/20\n",
            "390/390 [==============================] - 19s 49ms/step - loss: 0.3900 - accuracy: 0.8658 - val_loss: 0.4802 - val_accuracy: 0.8407\n",
            "\n",
            "Epoch 00008: val_accuracy improved from 0.83940 to 0.84070, saving model to /content/drive/MyDrive/CIFT instance 1/model.hdf5\n",
            "Epoch 9/20\n",
            "390/390 [==============================] - 19s 49ms/step - loss: 0.3909 - accuracy: 0.8665 - val_loss: 0.4802 - val_accuracy: 0.8410\n",
            "\n",
            "Epoch 00009: val_accuracy improved from 0.84070 to 0.84100, saving model to /content/drive/MyDrive/CIFT instance 1/model.hdf5\n",
            "Epoch 10/20\n",
            "390/390 [==============================] - 19s 49ms/step - loss: 0.4130 - accuracy: 0.8587 - val_loss: 0.4828 - val_accuracy: 0.8400\n",
            "\n",
            "Epoch 00010: val_accuracy did not improve from 0.84100\n",
            "Epoch 11/20\n",
            "390/390 [==============================] - 19s 49ms/step - loss: 0.3913 - accuracy: 0.8669 - val_loss: 0.4815 - val_accuracy: 0.8404\n",
            "\n",
            "Epoch 00011: val_accuracy did not improve from 0.84100\n",
            "Epoch 12/20\n",
            "390/390 [==============================] - 19s 49ms/step - loss: 0.3870 - accuracy: 0.8660 - val_loss: 0.4829 - val_accuracy: 0.8388\n",
            "\n",
            "Epoch 00012: val_accuracy did not improve from 0.84100\n",
            "Epoch 13/20\n",
            "390/390 [==============================] - 19s 49ms/step - loss: 0.4016 - accuracy: 0.8610 - val_loss: 0.4815 - val_accuracy: 0.8407\n",
            "\n",
            "Epoch 00013: val_accuracy did not improve from 0.84100\n",
            "Epoch 14/20\n",
            "390/390 [==============================] - 19s 49ms/step - loss: 0.3978 - accuracy: 0.8640 - val_loss: 0.4798 - val_accuracy: 0.8414\n",
            "\n",
            "Epoch 00014: val_accuracy improved from 0.84100 to 0.84140, saving model to /content/drive/MyDrive/CIFT instance 1/model.hdf5\n",
            "Epoch 15/20\n",
            "390/390 [==============================] - 19s 49ms/step - loss: 0.3959 - accuracy: 0.8641 - val_loss: 0.4804 - val_accuracy: 0.8403\n",
            "\n",
            "Epoch 00015: val_accuracy did not improve from 0.84140\n",
            "Epoch 16/20\n",
            "390/390 [==============================] - 19s 49ms/step - loss: 0.3913 - accuracy: 0.8643 - val_loss: 0.4826 - val_accuracy: 0.8391\n",
            "\n",
            "Epoch 00016: val_accuracy did not improve from 0.84140\n",
            "Epoch 17/20\n",
            "390/390 [==============================] - 19s 49ms/step - loss: 0.3996 - accuracy: 0.8625 - val_loss: 0.4820 - val_accuracy: 0.8403\n",
            "\n",
            "Epoch 00017: val_accuracy did not improve from 0.84140\n",
            "Epoch 18/20\n",
            "390/390 [==============================] - 19s 50ms/step - loss: 0.3897 - accuracy: 0.8668 - val_loss: 0.4833 - val_accuracy: 0.8385\n",
            "\n",
            "Epoch 00018: val_accuracy did not improve from 0.84140\n",
            "Epoch 19/20\n",
            "390/390 [==============================] - 19s 49ms/step - loss: 0.4015 - accuracy: 0.8609 - val_loss: 0.4814 - val_accuracy: 0.8407\n",
            "\n",
            "Epoch 00019: val_accuracy did not improve from 0.84140\n",
            "Epoch 20/20\n",
            "390/390 [==============================] - 19s 49ms/step - loss: 0.3830 - accuracy: 0.8674 - val_loss: 0.4811 - val_accuracy: 0.8398\n",
            "\n",
            "Epoch 00020: val_accuracy did not improve from 0.84140\n"
          ]
        }
      ]
    },
    {
      "cell_type": "markdown",
      "metadata": {
        "id": "2a1Z5gbknA8P"
      },
      "source": [
        "For improving the accuracy of the model beyong this, we'll need to add randomness to the data. This can be done by augmenting the images available in the train dataset."
      ]
    },
    {
      "cell_type": "code",
      "metadata": {
        "colab": {
          "base_uri": "https://localhost:8080/"
        },
        "id": "Kn8HS4FsmQHf",
        "outputId": "2b4b0209-59f4-458c-de70-258d852bc80f"
      },
      "source": [
        "# model.load_weights(filepath+'/model_epoch40.h5')\n",
        "datagen = ImageDataGenerator(rotation_range = 15, horizontal_flip = True)\n",
        "datagen.fit(X_train)\n",
        "model.optimizer.learning_rate = 1e-4\n",
        "plateau = ReduceLROnPlateau(monitor='val_accuracy',factor=0.1,patience=3)\n",
        "model.fit(datagen.flow(X_train, y_train), batch_size=batch_size, steps_per_epoch = int(len(X_train)/batch_size), epochs = 20, validation_data =(X_test, y_test), callbacks=[checkpoint,plateau])\n",
        "model.save_weights(filepath+'/model_epoch60.h5')"
      ],
      "execution_count": null,
      "outputs": [
        {
          "name": "stdout",
          "output_type": "stream",
          "text": [
            "Epoch 1/20\n",
            "390/390 [==============================] - 20s 48ms/step - loss: 0.4163 - accuracy: 0.8558 - val_loss: 0.4510 - val_accuracy: 0.8485\n",
            "\n",
            "Epoch 00001: val_accuracy improved from 0.84140 to 0.84850, saving model to /content/drive/MyDrive/CIFT instance 1/model.hdf5\n",
            "Epoch 2/20\n",
            "390/390 [==============================] - 19s 48ms/step - loss: 0.4004 - accuracy: 0.8644 - val_loss: 0.4427 - val_accuracy: 0.8520\n",
            "\n",
            "Epoch 00002: val_accuracy improved from 0.84850 to 0.85200, saving model to /content/drive/MyDrive/CIFT instance 1/model.hdf5\n",
            "Epoch 3/20\n",
            "390/390 [==============================] - 19s 48ms/step - loss: 0.3942 - accuracy: 0.8627 - val_loss: 0.4282 - val_accuracy: 0.8527\n",
            "\n",
            "Epoch 00003: val_accuracy improved from 0.85200 to 0.85270, saving model to /content/drive/MyDrive/CIFT instance 1/model.hdf5\n",
            "Epoch 4/20\n",
            "390/390 [==============================] - 19s 48ms/step - loss: 0.3810 - accuracy: 0.8680 - val_loss: 0.4349 - val_accuracy: 0.8543\n",
            "\n",
            "Epoch 00004: val_accuracy improved from 0.85270 to 0.85430, saving model to /content/drive/MyDrive/CIFT instance 1/model.hdf5\n",
            "Epoch 5/20\n",
            "390/390 [==============================] - 19s 48ms/step - loss: 0.3825 - accuracy: 0.8691 - val_loss: 0.4283 - val_accuracy: 0.8563\n",
            "\n",
            "Epoch 00005: val_accuracy improved from 0.85430 to 0.85630, saving model to /content/drive/MyDrive/CIFT instance 1/model.hdf5\n",
            "Epoch 6/20\n",
            "390/390 [==============================] - 19s 48ms/step - loss: 0.3703 - accuracy: 0.8687 - val_loss: 0.4350 - val_accuracy: 0.8555\n",
            "\n",
            "Epoch 00006: val_accuracy did not improve from 0.85630\n",
            "Epoch 7/20\n",
            "390/390 [==============================] - 19s 48ms/step - loss: 0.3661 - accuracy: 0.8771 - val_loss: 0.4295 - val_accuracy: 0.8553\n",
            "\n",
            "Epoch 00007: val_accuracy did not improve from 0.85630\n",
            "Epoch 8/20\n",
            "390/390 [==============================] - 19s 48ms/step - loss: 0.3634 - accuracy: 0.8762 - val_loss: 0.4071 - val_accuracy: 0.8626\n",
            "\n",
            "Epoch 00008: val_accuracy improved from 0.85630 to 0.86260, saving model to /content/drive/MyDrive/CIFT instance 1/model.hdf5\n",
            "Epoch 9/20\n",
            "390/390 [==============================] - 19s 48ms/step - loss: 0.3654 - accuracy: 0.8746 - val_loss: 0.4237 - val_accuracy: 0.8608\n",
            "\n",
            "Epoch 00009: val_accuracy did not improve from 0.86260\n",
            "Epoch 10/20\n",
            "390/390 [==============================] - 19s 49ms/step - loss: 0.3564 - accuracy: 0.8772 - val_loss: 0.4090 - val_accuracy: 0.8613\n",
            "\n",
            "Epoch 00010: val_accuracy did not improve from 0.86260\n",
            "Epoch 11/20\n",
            "390/390 [==============================] - 19s 48ms/step - loss: 0.3454 - accuracy: 0.8788 - val_loss: 0.4111 - val_accuracy: 0.8630\n",
            "\n",
            "Epoch 00011: val_accuracy improved from 0.86260 to 0.86300, saving model to /content/drive/MyDrive/CIFT instance 1/model.hdf5\n",
            "Epoch 12/20\n",
            "390/390 [==============================] - 19s 49ms/step - loss: 0.3470 - accuracy: 0.8786 - val_loss: 0.4064 - val_accuracy: 0.8655\n",
            "\n",
            "Epoch 00012: val_accuracy improved from 0.86300 to 0.86550, saving model to /content/drive/MyDrive/CIFT instance 1/model.hdf5\n",
            "Epoch 13/20\n",
            "390/390 [==============================] - 19s 49ms/step - loss: 0.3410 - accuracy: 0.8779 - val_loss: 0.4003 - val_accuracy: 0.8666\n",
            "\n",
            "Epoch 00013: val_accuracy improved from 0.86550 to 0.86660, saving model to /content/drive/MyDrive/CIFT instance 1/model.hdf5\n",
            "Epoch 14/20\n",
            "390/390 [==============================] - 19s 49ms/step - loss: 0.3331 - accuracy: 0.8827 - val_loss: 0.4048 - val_accuracy: 0.8660\n",
            "\n",
            "Epoch 00014: val_accuracy did not improve from 0.86660\n",
            "Epoch 15/20\n",
            "390/390 [==============================] - 19s 49ms/step - loss: 0.3328 - accuracy: 0.8839 - val_loss: 0.4347 - val_accuracy: 0.8555\n",
            "\n",
            "Epoch 00015: val_accuracy did not improve from 0.86660\n",
            "Epoch 16/20\n",
            "390/390 [==============================] - 19s 49ms/step - loss: 0.3371 - accuracy: 0.8807 - val_loss: 0.4134 - val_accuracy: 0.8613\n",
            "\n",
            "Epoch 00016: val_accuracy did not improve from 0.86660\n",
            "Epoch 17/20\n",
            "390/390 [==============================] - 19s 48ms/step - loss: 0.3301 - accuracy: 0.8845 - val_loss: 0.3925 - val_accuracy: 0.8692\n",
            "\n",
            "Epoch 00017: val_accuracy improved from 0.86660 to 0.86920, saving model to /content/drive/MyDrive/CIFT instance 1/model.hdf5\n",
            "Epoch 18/20\n",
            "390/390 [==============================] - 19s 49ms/step - loss: 0.3158 - accuracy: 0.8933 - val_loss: 0.3928 - val_accuracy: 0.8692\n",
            "\n",
            "Epoch 00018: val_accuracy did not improve from 0.86920\n",
            "Epoch 19/20\n",
            "390/390 [==============================] - 19s 49ms/step - loss: 0.3235 - accuracy: 0.8877 - val_loss: 0.3950 - val_accuracy: 0.8681\n",
            "\n",
            "Epoch 00019: val_accuracy did not improve from 0.86920\n",
            "Epoch 20/20\n",
            "390/390 [==============================] - 19s 49ms/step - loss: 0.3224 - accuracy: 0.8897 - val_loss: 0.3931 - val_accuracy: 0.8682\n",
            "\n",
            "Epoch 00020: val_accuracy did not improve from 0.86920\n"
          ]
        }
      ]
    },
    {
      "cell_type": "code",
      "metadata": {
        "colab": {
          "base_uri": "https://localhost:8080/"
        },
        "id": "sWAbILSYoTsB",
        "outputId": "b0113146-0d4e-4b16-fff3-8edb06e6cc37"
      },
      "source": [
        "datagen = ImageDataGenerator(rotation_range = 15, horizontal_flip = True)\n",
        "model.optimizer.learning_rate = 1e-4\n",
        "plateau = ReduceLROnPlateau(monitor='val_accuracy',factor=0.1,patience=2)\n",
        "datagen.fit(X_train)\n",
        "model.fit(datagen.flow(X_train, y_train), batch_size=batch_size, steps_per_epoch = int(len(X_train)/batch_size), epochs = 20, validation_data =(X_test, y_test), callbacks=[checkpoint])\n",
        "model.save_weights(filepath+'/model_epoch80.h5')"
      ],
      "execution_count": null,
      "outputs": [
        {
          "name": "stdout",
          "output_type": "stream",
          "text": [
            "Epoch 1/20\n",
            "390/390 [==============================] - 21s 49ms/step - loss: 0.3256 - accuracy: 0.8897 - val_loss: 0.4083 - val_accuracy: 0.8629\n",
            "\n",
            "Epoch 00001: val_accuracy did not improve from 0.86920\n",
            "Epoch 2/20\n",
            "390/390 [==============================] - 19s 48ms/step - loss: 0.3258 - accuracy: 0.8880 - val_loss: 0.4066 - val_accuracy: 0.8658\n",
            "\n",
            "Epoch 00002: val_accuracy did not improve from 0.86920\n",
            "Epoch 3/20\n",
            "390/390 [==============================] - 19s 48ms/step - loss: 0.3231 - accuracy: 0.8886 - val_loss: 0.3957 - val_accuracy: 0.8689\n",
            "\n",
            "Epoch 00003: val_accuracy did not improve from 0.86920\n",
            "Epoch 4/20\n",
            "390/390 [==============================] - 19s 48ms/step - loss: 0.3268 - accuracy: 0.8849 - val_loss: 0.3918 - val_accuracy: 0.8678\n",
            "\n",
            "Epoch 00004: val_accuracy did not improve from 0.86920\n",
            "Epoch 5/20\n",
            "390/390 [==============================] - 19s 48ms/step - loss: 0.3317 - accuracy: 0.8886 - val_loss: 0.4139 - val_accuracy: 0.8620\n",
            "\n",
            "Epoch 00005: val_accuracy did not improve from 0.86920\n",
            "Epoch 6/20\n",
            "390/390 [==============================] - 19s 48ms/step - loss: 0.3123 - accuracy: 0.8933 - val_loss: 0.3973 - val_accuracy: 0.8679\n",
            "\n",
            "Epoch 00006: val_accuracy did not improve from 0.86920\n",
            "Epoch 7/20\n",
            "390/390 [==============================] - 19s 48ms/step - loss: 0.3094 - accuracy: 0.8944 - val_loss: 0.4018 - val_accuracy: 0.8678\n",
            "\n",
            "Epoch 00007: val_accuracy did not improve from 0.86920\n",
            "Epoch 8/20\n",
            "390/390 [==============================] - 19s 48ms/step - loss: 0.2988 - accuracy: 0.8930 - val_loss: 0.3943 - val_accuracy: 0.8685\n",
            "\n",
            "Epoch 00008: val_accuracy did not improve from 0.86920\n",
            "Epoch 9/20\n",
            "390/390 [==============================] - 19s 48ms/step - loss: 0.3009 - accuracy: 0.8935 - val_loss: 0.4001 - val_accuracy: 0.8668\n",
            "\n",
            "Epoch 00009: val_accuracy did not improve from 0.86920\n",
            "Epoch 10/20\n",
            "390/390 [==============================] - 19s 48ms/step - loss: 0.3082 - accuracy: 0.8921 - val_loss: 0.3985 - val_accuracy: 0.8666\n",
            "\n",
            "Epoch 00010: val_accuracy did not improve from 0.86920\n",
            "Epoch 11/20\n",
            "390/390 [==============================] - 19s 48ms/step - loss: 0.3120 - accuracy: 0.8917 - val_loss: 0.3842 - val_accuracy: 0.8715\n",
            "\n",
            "Epoch 00011: val_accuracy improved from 0.86920 to 0.87150, saving model to /content/drive/MyDrive/CIFT instance 1/model.hdf5\n",
            "Epoch 12/20\n",
            "390/390 [==============================] - 19s 48ms/step - loss: 0.3056 - accuracy: 0.8925 - val_loss: 0.3836 - val_accuracy: 0.8727\n",
            "\n",
            "Epoch 00012: val_accuracy improved from 0.87150 to 0.87270, saving model to /content/drive/MyDrive/CIFT instance 1/model.hdf5\n",
            "Epoch 13/20\n",
            "390/390 [==============================] - 19s 48ms/step - loss: 0.3071 - accuracy: 0.8955 - val_loss: 0.3806 - val_accuracy: 0.8753\n",
            "\n",
            "Epoch 00013: val_accuracy improved from 0.87270 to 0.87530, saving model to /content/drive/MyDrive/CIFT instance 1/model.hdf5\n",
            "Epoch 14/20\n",
            "390/390 [==============================] - 19s 48ms/step - loss: 0.2902 - accuracy: 0.9016 - val_loss: 0.4072 - val_accuracy: 0.8658\n",
            "\n",
            "Epoch 00014: val_accuracy did not improve from 0.87530\n",
            "Epoch 15/20\n",
            "390/390 [==============================] - 19s 48ms/step - loss: 0.3027 - accuracy: 0.8944 - val_loss: 0.4006 - val_accuracy: 0.8653\n",
            "\n",
            "Epoch 00015: val_accuracy did not improve from 0.87530\n",
            "Epoch 16/20\n",
            "390/390 [==============================] - 19s 49ms/step - loss: 0.2858 - accuracy: 0.9015 - val_loss: 0.3935 - val_accuracy: 0.8699\n",
            "\n",
            "Epoch 00016: val_accuracy did not improve from 0.87530\n",
            "Epoch 17/20\n",
            "390/390 [==============================] - 19s 49ms/step - loss: 0.2861 - accuracy: 0.9006 - val_loss: 0.3894 - val_accuracy: 0.8726\n",
            "\n",
            "Epoch 00017: val_accuracy did not improve from 0.87530\n",
            "Epoch 18/20\n",
            "390/390 [==============================] - 19s 48ms/step - loss: 0.2922 - accuracy: 0.8955 - val_loss: 0.3777 - val_accuracy: 0.8744\n",
            "\n",
            "Epoch 00018: val_accuracy did not improve from 0.87530\n",
            "Epoch 19/20\n",
            "390/390 [==============================] - 19s 49ms/step - loss: 0.2783 - accuracy: 0.9056 - val_loss: 0.3852 - val_accuracy: 0.8723\n",
            "\n",
            "Epoch 00019: val_accuracy did not improve from 0.87530\n",
            "Epoch 20/20\n",
            "390/390 [==============================] - 19s 49ms/step - loss: 0.2835 - accuracy: 0.9040 - val_loss: 0.3886 - val_accuracy: 0.8708\n",
            "\n",
            "Epoch 00020: val_accuracy did not improve from 0.87530\n"
          ]
        }
      ]
    },
    {
      "cell_type": "code",
      "metadata": {
        "colab": {
          "base_uri": "https://localhost:8080/"
        },
        "id": "nbLMa7KguDIM",
        "outputId": "d4870131-66a1-46ab-da9e-ba80caf57ef0"
      },
      "source": [
        "datagen = ImageDataGenerator(rotation_range = 2, horizontal_flip = True)\n",
        "model.optimizer.learning_rate = 1e-4\n",
        "plateau = ReduceLROnPlateau(monitor='val_accuracy',factor=0.1,patience=2)\n",
        "datagen.fit(X_train)\n",
        "model.fit(datagen.flow(X_train, y_train), batch_size=batch_size, steps_per_epoch = int(len(X_train)/batch_size), epochs = 20, validation_data =(X_test, y_test), callbacks=[checkpoint,plateau])\n",
        "model.save_weights(filepath+'/model_epoch100.h5')"
      ],
      "execution_count": null,
      "outputs": [
        {
          "name": "stdout",
          "output_type": "stream",
          "text": [
            "Epoch 1/20\n",
            "390/390 [==============================] - 20s 47ms/step - loss: 0.2613 - accuracy: 0.9101 - val_loss: 0.3603 - val_accuracy: 0.8793\n",
            "\n",
            "Epoch 00001: val_accuracy improved from 0.87530 to 0.87930, saving model to /content/drive/MyDrive/CIFT instance 1/model.hdf5\n",
            "Epoch 2/20\n",
            "390/390 [==============================] - 18s 47ms/step - loss: 0.2516 - accuracy: 0.9123 - val_loss: 0.3597 - val_accuracy: 0.8774\n",
            "\n",
            "Epoch 00002: val_accuracy did not improve from 0.87930\n",
            "Epoch 3/20\n",
            "390/390 [==============================] - 18s 47ms/step - loss: 0.2391 - accuracy: 0.9183 - val_loss: 0.3549 - val_accuracy: 0.8789\n",
            "\n",
            "Epoch 00003: val_accuracy did not improve from 0.87930\n",
            "Epoch 4/20\n",
            "390/390 [==============================] - 19s 48ms/step - loss: 0.2460 - accuracy: 0.9147 - val_loss: 0.3521 - val_accuracy: 0.8807\n",
            "\n",
            "Epoch 00004: val_accuracy improved from 0.87930 to 0.88070, saving model to /content/drive/MyDrive/CIFT instance 1/model.hdf5\n",
            "Epoch 5/20\n",
            "390/390 [==============================] - 18s 47ms/step - loss: 0.2348 - accuracy: 0.9177 - val_loss: 0.3497 - val_accuracy: 0.8819\n",
            "\n",
            "Epoch 00005: val_accuracy improved from 0.88070 to 0.88190, saving model to /content/drive/MyDrive/CIFT instance 1/model.hdf5\n",
            "Epoch 6/20\n",
            "390/390 [==============================] - 19s 48ms/step - loss: 0.2280 - accuracy: 0.9225 - val_loss: 0.3490 - val_accuracy: 0.8805\n",
            "\n",
            "Epoch 00006: val_accuracy did not improve from 0.88190\n",
            "Epoch 7/20\n",
            "390/390 [==============================] - 19s 48ms/step - loss: 0.2256 - accuracy: 0.9190 - val_loss: 0.3495 - val_accuracy: 0.8809\n",
            "\n",
            "Epoch 00007: val_accuracy did not improve from 0.88190\n",
            "Epoch 8/20\n",
            "390/390 [==============================] - 19s 48ms/step - loss: 0.2385 - accuracy: 0.9192 - val_loss: 0.3482 - val_accuracy: 0.8810\n",
            "\n",
            "Epoch 00008: val_accuracy did not improve from 0.88190\n",
            "Epoch 9/20\n",
            "390/390 [==============================] - 19s 48ms/step - loss: 0.2304 - accuracy: 0.9215 - val_loss: 0.3478 - val_accuracy: 0.8815\n",
            "\n",
            "Epoch 00009: val_accuracy did not improve from 0.88190\n",
            "Epoch 10/20\n",
            "390/390 [==============================] - 19s 49ms/step - loss: 0.2329 - accuracy: 0.9179 - val_loss: 0.3479 - val_accuracy: 0.8814\n",
            "\n",
            "Epoch 00010: val_accuracy did not improve from 0.88190\n",
            "Epoch 11/20\n",
            "390/390 [==============================] - 19s 48ms/step - loss: 0.2333 - accuracy: 0.9203 - val_loss: 0.3477 - val_accuracy: 0.8809\n",
            "\n",
            "Epoch 00011: val_accuracy did not improve from 0.88190\n",
            "Epoch 12/20\n",
            "390/390 [==============================] - 19s 48ms/step - loss: 0.2317 - accuracy: 0.9197 - val_loss: 0.3485 - val_accuracy: 0.8816\n",
            "\n",
            "Epoch 00012: val_accuracy did not improve from 0.88190\n",
            "Epoch 13/20\n",
            "390/390 [==============================] - 19s 48ms/step - loss: 0.2341 - accuracy: 0.9223 - val_loss: 0.3484 - val_accuracy: 0.8816\n",
            "\n",
            "Epoch 00013: val_accuracy did not improve from 0.88190\n",
            "Epoch 14/20\n",
            "390/390 [==============================] - 19s 48ms/step - loss: 0.2346 - accuracy: 0.9188 - val_loss: 0.3478 - val_accuracy: 0.8813\n",
            "\n",
            "Epoch 00014: val_accuracy did not improve from 0.88190\n",
            "Epoch 15/20\n",
            "390/390 [==============================] - 19s 50ms/step - loss: 0.2269 - accuracy: 0.9251 - val_loss: 0.3487 - val_accuracy: 0.8807\n",
            "\n",
            "Epoch 00015: val_accuracy did not improve from 0.88190\n",
            "Epoch 16/20\n",
            "390/390 [==============================] - 19s 48ms/step - loss: 0.2309 - accuracy: 0.9198 - val_loss: 0.3476 - val_accuracy: 0.8812\n",
            "\n",
            "Epoch 00016: val_accuracy did not improve from 0.88190\n",
            "Epoch 17/20\n",
            "390/390 [==============================] - 19s 48ms/step - loss: 0.2322 - accuracy: 0.9221 - val_loss: 0.3479 - val_accuracy: 0.8812\n",
            "\n",
            "Epoch 00017: val_accuracy did not improve from 0.88190\n",
            "Epoch 18/20\n",
            "390/390 [==============================] - 19s 48ms/step - loss: 0.2399 - accuracy: 0.9200 - val_loss: 0.3479 - val_accuracy: 0.8814\n",
            "\n",
            "Epoch 00018: val_accuracy did not improve from 0.88190\n",
            "Epoch 19/20\n",
            "390/390 [==============================] - 19s 49ms/step - loss: 0.2393 - accuracy: 0.9170 - val_loss: 0.3487 - val_accuracy: 0.8815\n",
            "\n",
            "Epoch 00019: val_accuracy did not improve from 0.88190\n",
            "Epoch 20/20\n",
            "390/390 [==============================] - 19s 48ms/step - loss: 0.2265 - accuracy: 0.9233 - val_loss: 0.3490 - val_accuracy: 0.8810\n",
            "\n",
            "Epoch 00020: val_accuracy did not improve from 0.88190\n"
          ]
        }
      ]
    },
    {
      "cell_type": "code",
      "metadata": {
        "colab": {
          "base_uri": "https://localhost:8080/"
        },
        "id": "3QTaKumFvyor",
        "outputId": "5ce93981-9476-45f3-de95-5b9ea1bf559a"
      },
      "source": [
        "datagen = ImageDataGenerator( horizontal_flip = True, height_shift_range=0.07)\n",
        "model.optimizer.learning_rate = 1e-4\n",
        "plateau = ReduceLROnPlateau(monitor='val_accuracy',factor=0.1,patience=2)\n",
        "datagen.fit(X_train)\n",
        "model.fit(datagen.flow(X_train, y_train), batch_size=batch_size, steps_per_epoch = 2*int(len(X_train)/batch_size), epochs = 10, validation_data =(X_test, y_test), callbacks=[checkpoint])\n",
        "model.save_weights(filepath+'/model_epoch130.h5')"
      ],
      "execution_count": null,
      "outputs": [
        {
          "name": "stdout",
          "output_type": "stream",
          "text": [
            "Epoch 1/10\n",
            "780/780 [==============================] - 37s 45ms/step - loss: 0.2596 - accuracy: 0.9100 - val_loss: 0.3482 - val_accuracy: 0.8834\n",
            "\n",
            "Epoch 00001: val_accuracy improved from 0.88190 to 0.88340, saving model to /content/drive/MyDrive/CIFT instance 1/model.hdf5\n",
            "Epoch 2/10\n",
            "780/780 [==============================] - 35s 44ms/step - loss: 0.2532 - accuracy: 0.9116 - val_loss: 0.3511 - val_accuracy: 0.8824\n",
            "\n",
            "Epoch 00002: val_accuracy did not improve from 0.88340\n",
            "Epoch 3/10\n",
            "780/780 [==============================] - 35s 44ms/step - loss: 0.2485 - accuracy: 0.9159 - val_loss: 0.3519 - val_accuracy: 0.8804\n",
            "\n",
            "Epoch 00003: val_accuracy did not improve from 0.88340\n",
            "Epoch 4/10\n",
            "780/780 [==============================] - 35s 45ms/step - loss: 0.2347 - accuracy: 0.9186 - val_loss: 0.3591 - val_accuracy: 0.8805\n",
            "\n",
            "Epoch 00004: val_accuracy did not improve from 0.88340\n",
            "Epoch 5/10\n",
            "780/780 [==============================] - 35s 44ms/step - loss: 0.2406 - accuracy: 0.9157 - val_loss: 0.3461 - val_accuracy: 0.8818\n",
            "\n",
            "Epoch 00005: val_accuracy did not improve from 0.88340\n",
            "Epoch 6/10\n",
            "780/780 [==============================] - 35s 44ms/step - loss: 0.2302 - accuracy: 0.9206 - val_loss: 0.3495 - val_accuracy: 0.8799\n",
            "\n",
            "Epoch 00006: val_accuracy did not improve from 0.88340\n",
            "Epoch 7/10\n",
            "780/780 [==============================] - 35s 44ms/step - loss: 0.2271 - accuracy: 0.9214 - val_loss: 0.3511 - val_accuracy: 0.8811\n",
            "\n",
            "Epoch 00007: val_accuracy did not improve from 0.88340\n",
            "Epoch 8/10\n",
            "780/780 [==============================] - 35s 44ms/step - loss: 0.2209 - accuracy: 0.9240 - val_loss: 0.3422 - val_accuracy: 0.8860\n",
            "\n",
            "Epoch 00008: val_accuracy improved from 0.88340 to 0.88600, saving model to /content/drive/MyDrive/CIFT instance 1/model.hdf5\n",
            "Epoch 9/10\n",
            "780/780 [==============================] - 35s 44ms/step - loss: 0.2195 - accuracy: 0.9245 - val_loss: 0.3370 - val_accuracy: 0.8876\n",
            "\n",
            "Epoch 00009: val_accuracy improved from 0.88600 to 0.88760, saving model to /content/drive/MyDrive/CIFT instance 1/model.hdf5\n",
            "Epoch 10/10\n",
            "780/780 [==============================] - 35s 44ms/step - loss: 0.2181 - accuracy: 0.9234 - val_loss: 0.3396 - val_accuracy: 0.8865\n",
            "\n",
            "Epoch 00010: val_accuracy did not improve from 0.88760\n"
          ]
        }
      ]
    },
    {
      "cell_type": "code",
      "metadata": {
        "id": "L7dbvHDCwB6M"
      },
      "source": [
        "model = load_model('/content/drive/MyDrive/CIFT instance 1/model.hdf5')"
      ],
      "execution_count": null,
      "outputs": []
    },
    {
      "cell_type": "code",
      "metadata": {
        "colab": {
          "base_uri": "https://localhost:8080/"
        },
        "id": "oZbx-qwoDyVX",
        "outputId": "5e36a8ab-9c7d-4d2c-ff46-59d6aa5f6a30"
      },
      "source": [
        "model.evaluate(X_test,y_test)"
      ],
      "execution_count": null,
      "outputs": [
        {
          "name": "stdout",
          "output_type": "stream",
          "text": [
            "313/313 [==============================] - 9s 9ms/step - loss: 0.3285 - accuracy: 0.8936\n"
          ]
        },
        {
          "data": {
            "text/plain": [
              "[0.3285086750984192, 0.8935999870300293]"
            ]
          },
          "execution_count": 5,
          "metadata": {
            "tags": []
          },
          "output_type": "execute_result"
        }
      ]
    },
    {
      "cell_type": "code",
      "metadata": {
        "colab": {
          "base_uri": "https://localhost:8080/"
        },
        "id": "-oxP1EKh0xmd",
        "outputId": "1580da42-9dfc-44c2-814a-2a381ecd3bdc"
      },
      "source": [
        "datagen = ImageDataGenerator( horizontal_flip = True, height_shift_range=0.01)\n",
        "model.optimizer.learning_rate = 1e-4\n",
        "plateau = ReduceLROnPlateau(monitor='val_accuracy',factor=0.1,patience=2)\n",
        "datagen.fit(X_train)\n",
        "model.fit(datagen.flow(X_train, y_train), batch_size=batch_size, steps_per_epoch = 2*int(len(X_train)/batch_size), epochs = 10, validation_data =(X_test, y_test), callbacks=[checkpoint,plateau])\n",
        "model.save_weights(filepath+'/model_epoch140.h5')"
      ],
      "execution_count": null,
      "outputs": [
        {
          "name": "stdout",
          "output_type": "stream",
          "text": [
            "Epoch 1/10\n",
            "780/780 [==============================] - 46s 47ms/step - loss: 0.1726 - accuracy: 0.9405 - val_loss: 0.3496 - val_accuracy: 0.8839\n",
            "\n",
            "Epoch 00001: val_accuracy improved from -inf to 0.88390, saving model to /content/drive/MyDrive/CIFT instance 1/model.hdf5\n",
            "Epoch 2/10\n",
            "780/780 [==============================] - 35s 45ms/step - loss: 0.1674 - accuracy: 0.9432 - val_loss: 0.3586 - val_accuracy: 0.8813\n",
            "\n",
            "Epoch 00002: val_accuracy did not improve from 0.88390\n",
            "Epoch 3/10\n",
            "780/780 [==============================] - 35s 45ms/step - loss: 0.1682 - accuracy: 0.9425 - val_loss: 0.3457 - val_accuracy: 0.8874\n",
            "\n",
            "Epoch 00003: val_accuracy improved from 0.88390 to 0.88740, saving model to /content/drive/MyDrive/CIFT instance 1/model.hdf5\n",
            "Epoch 4/10\n",
            "780/780 [==============================] - 35s 45ms/step - loss: 0.1616 - accuracy: 0.9456 - val_loss: 0.3397 - val_accuracy: 0.8873\n",
            "\n",
            "Epoch 00004: val_accuracy did not improve from 0.88740\n",
            "Epoch 5/10\n",
            "780/780 [==============================] - 35s 45ms/step - loss: 0.1544 - accuracy: 0.9487 - val_loss: 0.3427 - val_accuracy: 0.8869\n",
            "\n",
            "Epoch 00005: val_accuracy did not improve from 0.88740\n",
            "Epoch 6/10\n",
            "780/780 [==============================] - 35s 45ms/step - loss: 0.1451 - accuracy: 0.9512 - val_loss: 0.3328 - val_accuracy: 0.8895\n",
            "\n",
            "Epoch 00006: val_accuracy improved from 0.88740 to 0.88950, saving model to /content/drive/MyDrive/CIFT instance 1/model.hdf5\n",
            "Epoch 7/10\n",
            "780/780 [==============================] - 35s 45ms/step - loss: 0.1429 - accuracy: 0.9536 - val_loss: 0.3311 - val_accuracy: 0.8913\n",
            "\n",
            "Epoch 00007: val_accuracy improved from 0.88950 to 0.89130, saving model to /content/drive/MyDrive/CIFT instance 1/model.hdf5\n",
            "Epoch 8/10\n",
            "780/780 [==============================] - 35s 45ms/step - loss: 0.1382 - accuracy: 0.9540 - val_loss: 0.3315 - val_accuracy: 0.8905\n",
            "\n",
            "Epoch 00008: val_accuracy did not improve from 0.89130\n",
            "Epoch 9/10\n",
            "780/780 [==============================] - 35s 45ms/step - loss: 0.1368 - accuracy: 0.9548 - val_loss: 0.3311 - val_accuracy: 0.8906\n",
            "\n",
            "Epoch 00009: val_accuracy did not improve from 0.89130\n",
            "Epoch 10/10\n",
            "780/780 [==============================] - 35s 45ms/step - loss: 0.1326 - accuracy: 0.9570 - val_loss: 0.3303 - val_accuracy: 0.8903\n",
            "\n",
            "Epoch 00010: val_accuracy did not improve from 0.89130\n"
          ]
        }
      ]
    },
    {
      "cell_type": "code",
      "metadata": {
        "colab": {
          "base_uri": "https://localhost:8080/"
        },
        "id": "sc5H0mDU2crE",
        "outputId": "e3a7fd81-d9fe-4052-d4ed-3a305ecc5283"
      },
      "source": [
        "datagen = ImageDataGenerator( horizontal_flip = True, height_shift_range=0.008)\n",
        "model.optimizer.learning_rate = 1e-5\n",
        "plateau = ReduceLROnPlateau(monitor='val_accuracy',factor=0.1,patience=2)\n",
        "datagen.fit(X_train)\n",
        "model.fit(datagen.flow(X_train, y_train), batch_size=batch_size, steps_per_epoch = 2*int(len(X_train)/batch_size), epochs = 10, validation_data =(X_test, y_test), callbacks=[checkpoint,plateau])\n",
        "model.save_weights(filepath+'/model_epoch150.h5')"
      ],
      "execution_count": null,
      "outputs": [
        {
          "name": "stdout",
          "output_type": "stream",
          "text": [
            "Epoch 1/10\n",
            "780/780 [==============================] - 35s 45ms/step - loss: 0.1339 - accuracy: 0.9552 - val_loss: 0.3292 - val_accuracy: 0.8907\n",
            "\n",
            "Epoch 00001: val_accuracy did not improve from 0.89130\n",
            "Epoch 2/10\n",
            "780/780 [==============================] - 35s 45ms/step - loss: 0.1327 - accuracy: 0.9563 - val_loss: 0.3289 - val_accuracy: 0.8910\n",
            "\n",
            "Epoch 00002: val_accuracy did not improve from 0.89130\n",
            "Epoch 3/10\n",
            "780/780 [==============================] - 35s 45ms/step - loss: 0.1277 - accuracy: 0.9591 - val_loss: 0.3295 - val_accuracy: 0.8907\n",
            "\n",
            "Epoch 00003: val_accuracy did not improve from 0.89130\n",
            "Epoch 4/10\n",
            "780/780 [==============================] - 35s 45ms/step - loss: 0.1283 - accuracy: 0.9585 - val_loss: 0.3290 - val_accuracy: 0.8924\n",
            "\n",
            "Epoch 00004: val_accuracy improved from 0.89130 to 0.89240, saving model to /content/drive/MyDrive/CIFT instance 1/model.hdf5\n",
            "Epoch 5/10\n",
            "780/780 [==============================] - 35s 45ms/step - loss: 0.1315 - accuracy: 0.9554 - val_loss: 0.3301 - val_accuracy: 0.8912\n",
            "\n",
            "Epoch 00005: val_accuracy did not improve from 0.89240\n",
            "Epoch 6/10\n",
            "780/780 [==============================] - 35s 45ms/step - loss: 0.1306 - accuracy: 0.9564 - val_loss: 0.3297 - val_accuracy: 0.8904\n",
            "\n",
            "Epoch 00006: val_accuracy did not improve from 0.89240\n",
            "Epoch 7/10\n",
            "780/780 [==============================] - 35s 45ms/step - loss: 0.1266 - accuracy: 0.9578 - val_loss: 0.3298 - val_accuracy: 0.8905\n",
            "\n",
            "Epoch 00007: val_accuracy did not improve from 0.89240\n",
            "Epoch 8/10\n",
            "780/780 [==============================] - 35s 45ms/step - loss: 0.1262 - accuracy: 0.9607 - val_loss: 0.3294 - val_accuracy: 0.8906\n",
            "\n",
            "Epoch 00008: val_accuracy did not improve from 0.89240\n",
            "Epoch 9/10\n",
            "780/780 [==============================] - 35s 45ms/step - loss: 0.1276 - accuracy: 0.9576 - val_loss: 0.3295 - val_accuracy: 0.8912\n",
            "\n",
            "Epoch 00009: val_accuracy did not improve from 0.89240\n",
            "Epoch 10/10\n",
            "780/780 [==============================] - 35s 45ms/step - loss: 0.1271 - accuracy: 0.9577 - val_loss: 0.3296 - val_accuracy: 0.8911\n",
            "\n",
            "Epoch 00010: val_accuracy did not improve from 0.89240\n"
          ]
        }
      ]
    },
    {
      "cell_type": "code",
      "metadata": {
        "colab": {
          "base_uri": "https://localhost:8080/"
        },
        "id": "SEvtdhke9I6p",
        "outputId": "69983082-1473-4e34-edad-27a71369e9d0"
      },
      "source": [
        "datagen = ImageDataGenerator( horizontal_flip = True, height_shift_range=0.005)\n",
        "model.optimizer.learning_rate = 1e-5\n",
        "plateau = ReduceLROnPlateau(monitor='val_accuracy',factor=0.1,patience=2)\n",
        "datagen.fit(X_train)\n",
        "model.fit(datagen.flow(X_train, y_train), batch_size=batch_size, steps_per_epoch = 2*int(len(X_train)/batch_size), epochs = 10, validation_data =(X_test, y_test), callbacks=[checkpoint,plateau])\n",
        "model.save_weights(filepath+'/model_epoch160.h5')"
      ],
      "execution_count": null,
      "outputs": [
        {
          "name": "stdout",
          "output_type": "stream",
          "text": [
            "Epoch 1/10\n",
            "780/780 [==============================] - 36s 45ms/step - loss: 0.1275 - accuracy: 0.9588 - val_loss: 0.3285 - val_accuracy: 0.8926\n",
            "\n",
            "Epoch 00001: val_accuracy improved from 0.89240 to 0.89260, saving model to /content/drive/MyDrive/CIFT instance 1/model.hdf5\n",
            "Epoch 2/10\n",
            "780/780 [==============================] - 35s 45ms/step - loss: 0.1271 - accuracy: 0.9586 - val_loss: 0.3289 - val_accuracy: 0.8927\n",
            "\n",
            "Epoch 00002: val_accuracy improved from 0.89260 to 0.89270, saving model to /content/drive/MyDrive/CIFT instance 1/model.hdf5\n",
            "Epoch 3/10\n",
            "780/780 [==============================] - 35s 45ms/step - loss: 0.1296 - accuracy: 0.9584 - val_loss: 0.3284 - val_accuracy: 0.8921\n",
            "\n",
            "Epoch 00003: val_accuracy did not improve from 0.89270\n",
            "Epoch 4/10\n",
            "780/780 [==============================] - 35s 45ms/step - loss: 0.1243 - accuracy: 0.9598 - val_loss: 0.3293 - val_accuracy: 0.8926\n",
            "\n",
            "Epoch 00004: val_accuracy did not improve from 0.89270\n",
            "Epoch 5/10\n",
            "780/780 [==============================] - 35s 45ms/step - loss: 0.1227 - accuracy: 0.9600 - val_loss: 0.3284 - val_accuracy: 0.8929\n",
            "\n",
            "Epoch 00005: val_accuracy improved from 0.89270 to 0.89290, saving model to /content/drive/MyDrive/CIFT instance 1/model.hdf5\n",
            "Epoch 6/10\n",
            "780/780 [==============================] - 35s 45ms/step - loss: 0.1250 - accuracy: 0.9590 - val_loss: 0.3296 - val_accuracy: 0.8931\n",
            "\n",
            "Epoch 00006: val_accuracy improved from 0.89290 to 0.89310, saving model to /content/drive/MyDrive/CIFT instance 1/model.hdf5\n",
            "Epoch 7/10\n",
            "780/780 [==============================] - 35s 45ms/step - loss: 0.1236 - accuracy: 0.9609 - val_loss: 0.3289 - val_accuracy: 0.8934\n",
            "\n",
            "Epoch 00007: val_accuracy improved from 0.89310 to 0.89340, saving model to /content/drive/MyDrive/CIFT instance 1/model.hdf5\n",
            "Epoch 8/10\n",
            "780/780 [==============================] - 35s 45ms/step - loss: 0.1200 - accuracy: 0.9615 - val_loss: 0.3289 - val_accuracy: 0.8933\n",
            "\n",
            "Epoch 00008: val_accuracy did not improve from 0.89340\n",
            "Epoch 9/10\n",
            "780/780 [==============================] - 35s 45ms/step - loss: 0.1264 - accuracy: 0.9588 - val_loss: 0.3285 - val_accuracy: 0.8936\n",
            "\n",
            "Epoch 00009: val_accuracy improved from 0.89340 to 0.89360, saving model to /content/drive/MyDrive/CIFT instance 1/model.hdf5\n",
            "Epoch 10/10\n",
            "780/780 [==============================] - 35s 44ms/step - loss: 0.1216 - accuracy: 0.9608 - val_loss: 0.3289 - val_accuracy: 0.8932\n",
            "\n",
            "Epoch 00010: val_accuracy did not improve from 0.89360\n"
          ]
        }
      ]
    },
    {
      "cell_type": "code",
      "metadata": {
        "colab": {
          "base_uri": "https://localhost:8080/"
        },
        "id": "HkaUD_Ii_BNR",
        "outputId": "4cfef6f1-6164-4b3f-d38e-ee230817c12f"
      },
      "source": [
        "datagen = ImageDataGenerator( horizontal_flip = True, height_shift_range=0.005)\n",
        "model.optimizer.learning_rate = 1e-5\n",
        "plateau = ReduceLROnPlateau(monitor='val_accuracy',factor=0.1,patience=2)\n",
        "datagen.fit(X_train)\n",
        "model.fit(datagen.flow(X_train, y_train), batch_size=batch_size, steps_per_epoch = 2*int(len(X_train)/batch_size), epochs = 10, validation_data =(X_test, y_test), callbacks=[checkpoint,plateau])\n",
        "model.save_weights(filepath+'/model_epoch170.h5')"
      ],
      "execution_count": null,
      "outputs": [
        {
          "name": "stdout",
          "output_type": "stream",
          "text": [
            "Epoch 1/10\n",
            "780/780 [==============================] - 27s 31ms/step - loss: 0.1212 - accuracy: 0.9607 - val_loss: 0.3292 - val_accuracy: 0.8934\n",
            "\n",
            "Epoch 00001: val_accuracy improved from -inf to 0.89340, saving model to /content/drive/MyDrive/CIFT instance 1/model.hdf5\n",
            "Epoch 2/10\n",
            "780/780 [==============================] - 24s 30ms/step - loss: 0.1204 - accuracy: 0.9627 - val_loss: 0.3310 - val_accuracy: 0.8922\n",
            "\n",
            "Epoch 00002: val_accuracy did not improve from 0.89340\n",
            "Epoch 3/10\n",
            "780/780 [==============================] - 23s 30ms/step - loss: 0.1199 - accuracy: 0.9619 - val_loss: 0.3302 - val_accuracy: 0.8925\n",
            "\n",
            "Epoch 00003: val_accuracy did not improve from 0.89340\n",
            "Epoch 4/10\n",
            "780/780 [==============================] - 23s 30ms/step - loss: 0.1167 - accuracy: 0.9629 - val_loss: 0.3303 - val_accuracy: 0.8919\n",
            "\n",
            "Epoch 00004: val_accuracy did not improve from 0.89340\n",
            "Epoch 5/10\n",
            "780/780 [==============================] - 23s 30ms/step - loss: 0.1188 - accuracy: 0.9616 - val_loss: 0.3302 - val_accuracy: 0.8934\n",
            "\n",
            "Epoch 00005: val_accuracy did not improve from 0.89340\n",
            "Epoch 6/10\n",
            "780/780 [==============================] - 23s 30ms/step - loss: 0.1207 - accuracy: 0.9594 - val_loss: 0.3300 - val_accuracy: 0.8932\n",
            "\n",
            "Epoch 00006: val_accuracy did not improve from 0.89340\n",
            "Epoch 7/10\n",
            "780/780 [==============================] - 23s 30ms/step - loss: 0.1182 - accuracy: 0.9618 - val_loss: 0.3304 - val_accuracy: 0.8939\n",
            "\n",
            "Epoch 00007: val_accuracy improved from 0.89340 to 0.89390, saving model to /content/drive/MyDrive/CIFT instance 1/model.hdf5\n",
            "Epoch 8/10\n",
            "780/780 [==============================] - 23s 30ms/step - loss: 0.1250 - accuracy: 0.9601 - val_loss: 0.3303 - val_accuracy: 0.8928\n",
            "\n",
            "Epoch 00008: val_accuracy did not improve from 0.89390\n",
            "Epoch 9/10\n",
            "780/780 [==============================] - 23s 30ms/step - loss: 0.1250 - accuracy: 0.9591 - val_loss: 0.3302 - val_accuracy: 0.8935\n",
            "\n",
            "Epoch 00009: val_accuracy did not improve from 0.89390\n",
            "Epoch 10/10\n",
            "780/780 [==============================] - 23s 30ms/step - loss: 0.1231 - accuracy: 0.9620 - val_loss: 0.3293 - val_accuracy: 0.8939\n",
            "\n",
            "Epoch 00010: val_accuracy did not improve from 0.89390\n"
          ]
        }
      ]
    },
    {
      "cell_type": "code",
      "metadata": {
        "colab": {
          "base_uri": "https://localhost:8080/"
        },
        "id": "ND0MKIEOQ2RV",
        "outputId": "eebcc4f1-1207-4269-ad79-0039583b862b"
      },
      "source": [
        "datagen = ImageDataGenerator( horizontal_flip = True, height_shift_range=0.003)\n",
        "model.optimizer.learning_rate = 1e-5\n",
        "plateau = ReduceLROnPlateau(monitor='val_accuracy',factor=0.1,patience=2)\n",
        "datagen.fit(X_train)\n",
        "model.fit(datagen.flow(X_train, y_train), batch_size=batch_size, steps_per_epoch = 2*int(len(X_train)/batch_size), epochs = 10, validation_data =(X_test, y_test), callbacks=[checkpoint,plateau])\n",
        "model.save_weights(filepath+'/model_epoch170.h5')"
      ],
      "execution_count": null,
      "outputs": [
        {
          "name": "stdout",
          "output_type": "stream",
          "text": [
            "Epoch 1/10\n",
            "780/780 [==============================] - 23s 30ms/step - loss: 0.1175 - accuracy: 0.9624 - val_loss: 0.3292 - val_accuracy: 0.8944\n",
            "\n",
            "Epoch 00001: val_accuracy improved from 0.89390 to 0.89440, saving model to /content/drive/MyDrive/CIFT instance 1/model.hdf5\n",
            "Epoch 2/10\n",
            "780/780 [==============================] - 23s 30ms/step - loss: 0.1187 - accuracy: 0.9615 - val_loss: 0.3292 - val_accuracy: 0.8942\n",
            "\n",
            "Epoch 00002: val_accuracy did not improve from 0.89440\n",
            "Epoch 3/10\n",
            "780/780 [==============================] - 23s 30ms/step - loss: 0.1227 - accuracy: 0.9599 - val_loss: 0.3299 - val_accuracy: 0.8927\n",
            "\n",
            "Epoch 00003: val_accuracy did not improve from 0.89440\n",
            "Epoch 4/10\n",
            "780/780 [==============================] - 23s 30ms/step - loss: 0.1196 - accuracy: 0.9615 - val_loss: 0.3290 - val_accuracy: 0.8934\n",
            "\n",
            "Epoch 00004: val_accuracy did not improve from 0.89440\n",
            "Epoch 5/10\n",
            "780/780 [==============================] - 24s 30ms/step - loss: 0.1174 - accuracy: 0.9628 - val_loss: 0.3295 - val_accuracy: 0.8934\n",
            "\n",
            "Epoch 00005: val_accuracy did not improve from 0.89440\n",
            "Epoch 6/10\n",
            "780/780 [==============================] - 24s 30ms/step - loss: 0.1151 - accuracy: 0.9639 - val_loss: 0.3293 - val_accuracy: 0.8936\n",
            "\n",
            "Epoch 00006: val_accuracy did not improve from 0.89440\n",
            "Epoch 7/10\n",
            "780/780 [==============================] - 23s 30ms/step - loss: 0.1167 - accuracy: 0.9623 - val_loss: 0.3292 - val_accuracy: 0.8934\n",
            "\n",
            "Epoch 00007: val_accuracy did not improve from 0.89440\n",
            "Epoch 8/10\n",
            "780/780 [==============================] - 23s 30ms/step - loss: 0.1169 - accuracy: 0.9628 - val_loss: 0.3295 - val_accuracy: 0.8935\n",
            "\n",
            "Epoch 00008: val_accuracy did not improve from 0.89440\n",
            "Epoch 9/10\n",
            "780/780 [==============================] - 23s 30ms/step - loss: 0.1204 - accuracy: 0.9624 - val_loss: 0.3294 - val_accuracy: 0.8934\n",
            "\n",
            "Epoch 00009: val_accuracy did not improve from 0.89440\n",
            "Epoch 10/10\n",
            "780/780 [==============================] - 23s 30ms/step - loss: 0.1169 - accuracy: 0.9607 - val_loss: 0.3297 - val_accuracy: 0.8941\n",
            "\n",
            "Epoch 00010: val_accuracy did not improve from 0.89440\n"
          ]
        }
      ]
    },
    {
      "cell_type": "code",
      "metadata": {
        "colab": {
          "base_uri": "https://localhost:8080/"
        },
        "id": "vYLVGWPUSZe4",
        "outputId": "bd1ba1ae-d847-4e4a-93a7-d5eb27fb9089"
      },
      "source": [
        "datagen = ImageDataGenerator( horizontal_flip = True, height_shift_range=0.001)\n",
        "model.optimizer.learning_rate = 1e-5\n",
        "plateau = ReduceLROnPlateau(monitor='val_accuracy',factor=0.1,patience=2)\n",
        "datagen.fit(X_train)\n",
        "model.fit(datagen.flow(X_train, y_train), batch_size=batch_size, steps_per_epoch = 2*int(len(X_train)/batch_size), epochs = 10, validation_data =(X_test, y_test), callbacks=[checkpoint,plateau])\n",
        "model.save_weights(filepath+'/model_epoch180.h5')"
      ],
      "execution_count": null,
      "outputs": [
        {
          "name": "stdout",
          "output_type": "stream",
          "text": [
            "Epoch 1/10\n",
            "780/780 [==============================] - 25s 30ms/step - loss: 0.1210 - accuracy: 0.9601 - val_loss: 0.3293 - val_accuracy: 0.8945\n",
            "\n",
            "Epoch 00001: val_accuracy improved from 0.89440 to 0.89450, saving model to /content/drive/MyDrive/CIFT instance 1/model.hdf5\n",
            "Epoch 2/10\n",
            "780/780 [==============================] - 23s 30ms/step - loss: 0.1204 - accuracy: 0.9614 - val_loss: 0.3297 - val_accuracy: 0.8931\n",
            "\n",
            "Epoch 00002: val_accuracy did not improve from 0.89450\n",
            "Epoch 3/10\n",
            "780/780 [==============================] - 23s 30ms/step - loss: 0.1218 - accuracy: 0.9607 - val_loss: 0.3294 - val_accuracy: 0.8933\n",
            "\n",
            "Epoch 00003: val_accuracy did not improve from 0.89450\n",
            "Epoch 4/10\n",
            "780/780 [==============================] - 24s 30ms/step - loss: 0.1156 - accuracy: 0.9633 - val_loss: 0.3293 - val_accuracy: 0.8934\n",
            "\n",
            "Epoch 00004: val_accuracy did not improve from 0.89450\n",
            "Epoch 5/10\n",
            "780/780 [==============================] - 23s 30ms/step - loss: 0.1162 - accuracy: 0.9631 - val_loss: 0.3292 - val_accuracy: 0.8925\n",
            "\n",
            "Epoch 00005: val_accuracy did not improve from 0.89450\n",
            "Epoch 6/10\n",
            "780/780 [==============================] - 23s 30ms/step - loss: 0.1142 - accuracy: 0.9638 - val_loss: 0.3288 - val_accuracy: 0.8940\n",
            "\n",
            "Epoch 00006: val_accuracy did not improve from 0.89450\n",
            "Epoch 7/10\n",
            "780/780 [==============================] - 23s 30ms/step - loss: 0.1156 - accuracy: 0.9627 - val_loss: 0.3292 - val_accuracy: 0.8938\n",
            "\n",
            "Epoch 00007: val_accuracy did not improve from 0.89450\n",
            "Epoch 8/10\n",
            "780/780 [==============================] - 23s 30ms/step - loss: 0.1187 - accuracy: 0.9622 - val_loss: 0.3294 - val_accuracy: 0.8934\n",
            "\n",
            "Epoch 00008: val_accuracy did not improve from 0.89450\n",
            "Epoch 9/10\n",
            "780/780 [==============================] - 23s 30ms/step - loss: 0.1170 - accuracy: 0.9627 - val_loss: 0.3299 - val_accuracy: 0.8938\n",
            "\n",
            "Epoch 00009: val_accuracy did not improve from 0.89450\n",
            "Epoch 10/10\n",
            "780/780 [==============================] - 24s 30ms/step - loss: 0.1140 - accuracy: 0.9641 - val_loss: 0.3293 - val_accuracy: 0.8930\n",
            "\n",
            "Epoch 00010: val_accuracy did not improve from 0.89450\n"
          ]
        }
      ]
    },
    {
      "cell_type": "code",
      "metadata": {
        "id": "LwxacHxLl65_"
      },
      "source": [
        "model.load_weights(filepath+'/model_epoch180.h5')"
      ],
      "execution_count": null,
      "outputs": []
    },
    {
      "cell_type": "code",
      "metadata": {
        "colab": {
          "base_uri": "https://localhost:8080/"
        },
        "id": "hgSQ-VEDTcZ2",
        "outputId": "f6d42426-fe90-4856-db06-3bac746d90f0"
      },
      "source": [
        "datagen = ImageDataGenerator( horizontal_flip = True, height_shift_range=0.001)\n",
        "model.optimizer.learning_rate = 1e-5\n",
        "plateau = ReduceLROnPlateau(monitor='val_accuracy',factor=0.1,patience=2)\n",
        "datagen.fit(X_train)\n",
        "model.fit(datagen.flow(X_train, y_train), batch_size=batch_size, steps_per_epoch = 3*int(len(X_train)/batch_size), epochs = 10, validation_data =(X_test, y_test), callbacks=[checkpoint,plateau])\n",
        "model.save_weights(filepath+'/model_epoch190.h5')"
      ],
      "execution_count": null,
      "outputs": [
        {
          "name": "stdout",
          "output_type": "stream",
          "text": [
            "Epoch 1/10\n",
            "1170/1170 [==============================] - 36s 29ms/step - loss: 0.1112 - accuracy: 0.9636 - val_loss: 0.3324 - val_accuracy: 0.8940\n",
            "\n",
            "Epoch 00001: val_accuracy improved from 0.89270 to 0.89400, saving model to /content/drive/MyDrive/CIFT instance 1/model.hdf5\n",
            "Epoch 2/10\n",
            "1170/1170 [==============================] - 34s 29ms/step - loss: 0.1117 - accuracy: 0.9633 - val_loss: 0.3335 - val_accuracy: 0.8934\n",
            "\n",
            "Epoch 00002: val_accuracy did not improve from 0.89400\n",
            "Epoch 3/10\n",
            "1170/1170 [==============================] - 34s 29ms/step - loss: 0.1101 - accuracy: 0.9645 - val_loss: 0.3336 - val_accuracy: 0.8944\n",
            "\n",
            "Epoch 00003: val_accuracy improved from 0.89400 to 0.89440, saving model to /content/drive/MyDrive/CIFT instance 1/model.hdf5\n",
            "Epoch 4/10\n",
            "1170/1170 [==============================] - 34s 29ms/step - loss: 0.1117 - accuracy: 0.9639 - val_loss: 0.3325 - val_accuracy: 0.8938\n",
            "\n",
            "Epoch 00004: val_accuracy did not improve from 0.89440\n",
            "Epoch 5/10\n",
            "1170/1170 [==============================] - 34s 29ms/step - loss: 0.1079 - accuracy: 0.9648 - val_loss: 0.3335 - val_accuracy: 0.8939\n",
            "\n",
            "Epoch 00005: val_accuracy did not improve from 0.89440\n",
            "Epoch 6/10\n",
            "1170/1170 [==============================] - 34s 29ms/step - loss: 0.1075 - accuracy: 0.9655 - val_loss: 0.3332 - val_accuracy: 0.8940\n",
            "\n",
            "Epoch 00006: val_accuracy did not improve from 0.89440\n",
            "Epoch 7/10\n",
            "1170/1170 [==============================] - 34s 29ms/step - loss: 0.1076 - accuracy: 0.9658 - val_loss: 0.3332 - val_accuracy: 0.8936\n",
            "\n",
            "Epoch 00007: val_accuracy did not improve from 0.89440\n",
            "Epoch 8/10\n",
            "1170/1170 [==============================] - 34s 29ms/step - loss: 0.1020 - accuracy: 0.9687 - val_loss: 0.3333 - val_accuracy: 0.8929\n",
            "\n",
            "Epoch 00008: val_accuracy did not improve from 0.89440\n",
            "Epoch 9/10\n",
            "1170/1170 [==============================] - 34s 29ms/step - loss: 0.1086 - accuracy: 0.9656 - val_loss: 0.3332 - val_accuracy: 0.8936\n",
            "\n",
            "Epoch 00009: val_accuracy did not improve from 0.89440\n",
            "Epoch 10/10\n",
            "1170/1170 [==============================] - 34s 29ms/step - loss: 0.1072 - accuracy: 0.9659 - val_loss: 0.3336 - val_accuracy: 0.8933\n",
            "\n",
            "Epoch 00010: val_accuracy did not improve from 0.89440\n"
          ]
        }
      ]
    },
    {
      "cell_type": "code",
      "metadata": {
        "colab": {
          "base_uri": "https://localhost:8080/"
        },
        "id": "BGEg-Bxsos3S",
        "outputId": "3c30731b-c274-4325-da04-01b9522557cb"
      },
      "source": [
        "datagen = ImageDataGenerator(  horizontal_flip=True, width_shift_range=0.001)\n",
        "model.optimizer.learning_rate = 1e-5\n",
        "plateau = ReduceLROnPlateau(monitor='val_accuracy',factor=0.1,patience=2)\n",
        "datagen.fit(X_train)\n",
        "model.fit(datagen.flow(X_train, y_train), batch_size=batch_size, steps_per_epoch = 3*int(len(X_train)/batch_size), epochs = 10, validation_data =(X_test, y_test), callbacks=[checkpoint,plateau])\n",
        "model.save_weights(filepath+'/model_epoch200.h5')"
      ],
      "execution_count": null,
      "outputs": [
        {
          "name": "stdout",
          "output_type": "stream",
          "text": [
            "Epoch 1/10\n",
            "1170/1170 [==============================] - 34s 29ms/step - loss: 0.1107 - accuracy: 0.9634 - val_loss: 0.3362 - val_accuracy: 0.8934\n",
            "\n",
            "Epoch 00001: val_accuracy did not improve from 0.89440\n",
            "Epoch 2/10\n",
            "1170/1170 [==============================] - 34s 29ms/step - loss: 0.1071 - accuracy: 0.9656 - val_loss: 0.3380 - val_accuracy: 0.8926\n",
            "\n",
            "Epoch 00002: val_accuracy did not improve from 0.89440\n",
            "Epoch 3/10\n",
            "1170/1170 [==============================] - 34s 29ms/step - loss: 0.1061 - accuracy: 0.9662 - val_loss: 0.3369 - val_accuracy: 0.8928\n",
            "\n",
            "Epoch 00003: val_accuracy did not improve from 0.89440\n",
            "Epoch 4/10\n",
            "1170/1170 [==============================] - 34s 29ms/step - loss: 0.1043 - accuracy: 0.9661 - val_loss: 0.3374 - val_accuracy: 0.8942\n",
            "\n",
            "Epoch 00004: val_accuracy did not improve from 0.89440\n",
            "Epoch 5/10\n",
            "1170/1170 [==============================] - 34s 29ms/step - loss: 0.1037 - accuracy: 0.9662 - val_loss: 0.3370 - val_accuracy: 0.8935\n",
            "\n",
            "Epoch 00005: val_accuracy did not improve from 0.89440\n",
            "Epoch 6/10\n",
            "1170/1170 [==============================] - 34s 29ms/step - loss: 0.1016 - accuracy: 0.9685 - val_loss: 0.3371 - val_accuracy: 0.8940\n",
            "\n",
            "Epoch 00006: val_accuracy did not improve from 0.89440\n",
            "Epoch 7/10\n",
            "1170/1170 [==============================] - 34s 29ms/step - loss: 0.1024 - accuracy: 0.9677 - val_loss: 0.3374 - val_accuracy: 0.8929\n",
            "\n",
            "Epoch 00007: val_accuracy did not improve from 0.89440\n",
            "Epoch 8/10\n",
            "1170/1170 [==============================] - 34s 29ms/step - loss: 0.1017 - accuracy: 0.9676 - val_loss: 0.3371 - val_accuracy: 0.8924\n",
            "\n",
            "Epoch 00008: val_accuracy did not improve from 0.89440\n",
            "Epoch 9/10\n",
            "1170/1170 [==============================] - 34s 29ms/step - loss: 0.1052 - accuracy: 0.9669 - val_loss: 0.3368 - val_accuracy: 0.8935\n",
            "\n",
            "Epoch 00009: val_accuracy did not improve from 0.89440\n",
            "Epoch 10/10\n",
            "1170/1170 [==============================] - 34s 29ms/step - loss: 0.1023 - accuracy: 0.9673 - val_loss: 0.3372 - val_accuracy: 0.8934\n",
            "\n",
            "Epoch 00010: val_accuracy did not improve from 0.89440\n"
          ]
        },
        {
          "data": {
            "text/plain": [
              "<tensorflow.python.keras.callbacks.History at 0x7f01881691d0>"
            ]
          },
          "execution_count": 33,
          "metadata": {
            "tags": []
          },
          "output_type": "execute_result"
        }
      ]
    },
    {
      "cell_type": "code",
      "metadata": {
        "id": "kWEO2RVjUpzr"
      },
      "source": [
        "model = load_model('/content/drive/MyDrive/CIFT instance 1/Copy of model.hdf5')"
      ],
      "execution_count": null,
      "outputs": []
    },
    {
      "cell_type": "code",
      "metadata": {
        "colab": {
          "base_uri": "https://localhost:8080/"
        },
        "id": "wanh_hlPCGpU",
        "outputId": "8f9701be-86ea-4391-bd3f-8ab63515887c"
      },
      "source": [
        "#Highest achievable accuracy after multiple attempts\n",
        "model.evaluate(X_test,y_test)"
      ],
      "execution_count": null,
      "outputs": [
        {
          "name": "stdout",
          "output_type": "stream",
          "text": [
            "313/313 [==============================] - 3s 8ms/step - loss: 0.3336 - accuracy: 0.8944\n"
          ]
        },
        {
          "data": {
            "text/plain": [
              "[0.3335798978805542, 0.8944000005722046]"
            ]
          },
          "execution_count": 63,
          "metadata": {
            "tags": []
          },
          "output_type": "execute_result"
        }
      ]
    },
    {
      "cell_type": "markdown",
      "metadata": {
        "id": "GlVWWqTEnmC4"
      },
      "source": [
        "The accuracy of our model did not improve beyond 0.8944. This will be the final state of our model."
      ]
    }
  ]
}